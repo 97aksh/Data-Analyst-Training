{
 "cells": [
  {
   "cell_type": "code",
   "execution_count": 1,
   "id": "1611dfa4-9dbf-44bc-8e04-2181010b6676",
   "metadata": {},
   "outputs": [],
   "source": [
    "import pyspark\n",
    "from pyspark.sql import SparkSession"
   ]
  },
  {
   "cell_type": "code",
   "execution_count": 2,
   "id": "6a738c83-192d-4f90-987b-429047e527b4",
   "metadata": {},
   "outputs": [],
   "source": [
    "import os\n",
    "# Set the SPARK_LOCAL_HOSTNAME environment variable to localhost\n",
    "os.environ[\"SPARK_LOCAL_HOSTNAME\"] = \"localhost\""
   ]
  },
  {
   "cell_type": "code",
   "execution_count": 3,
   "id": "6a9451b6-518c-49e3-80f6-be37681e3000",
   "metadata": {},
   "outputs": [],
   "source": [
    "spark = SparkSession.builder.appName('Practice').getOrCreate()"
   ]
  },
  {
   "cell_type": "code",
   "execution_count": 4,
   "id": "a3d7d7a1-947a-41e8-ab44-ee154b62db49",
   "metadata": {},
   "outputs": [
    {
     "name": "stdout",
     "output_type": "stream",
     "text": [
      "+------+--------------+----------+---------+--------------+-----------+----------------+-----------+-------------+------------+------------+-----------+-------+---------------+---------------+------------+--------------------+--------------------+--------+--------+--------+\n",
      "|Row ID|      Order ID|Order Date|Ship Date|     Ship Mode|Customer ID|   Customer Name|    Segment|      Country|        City|       State|Postal Code| Region|     Product ID|       Category|Sub-Category|        Product Name|               Sales|Quantity|Discount|  Profit|\n",
      "+------+--------------+----------+---------+--------------+-----------+----------------+-----------+-------------+------------+------------+-----------+-------+---------------+---------------+------------+--------------------+--------------------+--------+--------+--------+\n",
      "| 79814|CA-2011-103800|  03-01-13| 07-01-13|Standard Class|   DP-13000|   Darren Powers|   Consumer|United States|     Houston|       Texas|      77095|Central|OFF-PA-10000174|Office Supplies|       Paper|\"Message Book, Wi...| 200 Dupl. Sets/B...|  16.448|       2|     0.2|\n",
      "|   740|CA-2011-112326|  04-01-13| 08-01-13|Standard Class|   PO-19195|   Phillina Ober|Home Office|United States|  Naperville|    Illinois|      60540|Central|OFF-LA-10003223|Office Supplies|      Labels|           Avery 508|              11.784|       3|     0.2|  4.2717|\n",
      "|   741|CA-2011-112326|  04-01-13| 08-01-13|Standard Class|   PO-19195|   Phillina Ober|Home Office|United States|  Naperville|    Illinois|      60540|Central|OFF-ST-10002743|Office Supplies|     Storage|SAFCO Boltless St...|             272.736|       3|     0.2|-64.7748|\n",
      "|   742|CA-2011-112326|  04-01-13| 08-01-13|Standard Class|   PO-19195|   Phillina Ober|Home Office|United States|  Naperville|    Illinois|      60540|Central|OFF-BI-10004094|Office Supplies|     Binders|GBC Standard Plas...|                3.54|       2|     0.8|  -5.487|\n",
      "|  1760|CA-2011-141817|  05-01-13| 12-01-13|Standard Class|   MB-18085|      Mick Brown|   Consumer|United States|Philadelphia|Pennsylvania|      19143|   East|OFF-AR-10003478|Office Supplies|         Art|Avery Hi-Liter Ev...|              19.536|       3|     0.2|   4.884|\n",
      "|  5328|CA-2011-130813|  06-01-13| 08-01-13|  Second Class|   LS-17230|Lycoris Saunders|   Consumer|United States| Los Angeles|  California|      90049|   West|OFF-PA-10002005|Office Supplies|       Paper|           Xerox 225|               19.44|       3|       0|  9.3312|\n",
      "|  7181|CA-2011-106054|  06-01-13| 07-01-13|   First Class|   JO-15145|   Jack O'Briant|  Corporate|United States|      Athens|     Georgia|      30605|  South|OFF-AR-10002399|Office Supplies|         Art|Dixon Prang Water...|               12.78|       3|       0|  5.2398|\n",
      "|  7475|CA-2011-167199|  06-01-13| 10-01-13|Standard Class|   ME-17320|   Maria Etezadi|Home Office|United States|   Henderson|    Kentucky|      42420|  South|FUR-CH-10004063|      Furniture|      Chairs|Global Deluxe Hig...|             2573.82|       9|       0|746.4078|\n",
      "|  7476|CA-2011-167199|  06-01-13| 10-01-13|Standard Class|   ME-17320|   Maria Etezadi|Home Office|United States|   Henderson|    Kentucky|      42420|  South|OFF-BI-10004632|Office Supplies|     Binders|Ibico Hi-Tech Man...|              609.98|       2|       0| 274.491|\n",
      "|  7477|CA-2011-167199|  06-01-13| 10-01-13|Standard Class|   ME-17320|   Maria Etezadi|Home Office|United States|   Henderson|    Kentucky|      42420|  South|OFF-AR-10001662|Office Supplies|         Art|Rogers Handheld B...|                5.48|       2|       0|  1.4796|\n",
      "|  7478|CA-2011-167199|  06-01-13| 10-01-13|Standard Class|   ME-17320|   Maria Etezadi|Home Office|United States|   Henderson|    Kentucky|      42420|  South|TEC-PH-10004977|     Technology|      Phones|         GE 30524EE4|              391.98|       2|       0|113.6742|\n",
      "|  7479|CA-2011-167199|  06-01-13| 10-01-13|Standard Class|   ME-17320|   Maria Etezadi|Home Office|United States|   Henderson|    Kentucky|      42420|  South|TEC-PH-10004539|     Technology|      Phones|Wireless Extender...|              755.96|       4|       0|204.1092|\n",
      "|  7480|CA-2011-167199|  06-01-13| 10-01-13|Standard Class|   ME-17320|   Maria Etezadi|Home Office|United States|   Henderson|    Kentucky|      42420|  South|OFF-FA-10001883|Office Supplies|   Fasteners|Alliance Super-Si...|               31.12|       4|       0|  0.3112|\n",
      "|  7481|CA-2011-167199|  06-01-13| 10-01-13|Standard Class|   ME-17320|   Maria Etezadi|Home Office|United States|   Henderson|    Kentucky|      42420|  South|OFF-PA-10000955|Office Supplies|       Paper|Southworth 25% Co...|                6.54|       1|       0|  3.0084|\n",
      "|  7661|CA-2011-105417|  07-01-13| 12-01-13|Standard Class|   VS-21820|Vivek Sundaresam|   Consumer|United States|  Huntsville|       Texas|      77340|Central|FUR-FU-10004864|      Furniture| Furnishings|\"Howard Miller 14...|              76.728|       3|     0.6|-53.7096|\n",
      "|  7662|CA-2011-105417|  07-01-13| 12-01-13|Standard Class|   VS-21820|Vivek Sundaresam|   Consumer|United States|  Huntsville|       Texas|      77340|Central|OFF-BI-10003708|Office Supplies|     Binders|Acco Four Pocket ...|               10.43|       7|     0.8|-18.2525|\n",
      "|   593|CA-2011-135405|  09-01-13| 13-01-13|Standard Class|   MS-17830|   Melanie Seite|   Consumer|United States|      Laredo|       Texas|      78041|Central|OFF-AR-10004078|Office Supplies|         Art|          Newell 312|               9.344|       2|     0.2|   1.168|\n",
      "|   594|CA-2011-135405|  09-01-13| 13-01-13|Standard Class|   MS-17830|   Melanie Seite|   Consumer|United States|      Laredo|       Texas|      78041|Central|TEC-AC-10001266|     Technology| Accessories|Memorex Micro Tra...|                31.2|       3|     0.2|    9.75|\n",
      "|   866|CA-2011-149020|  10-01-13| 15-01-13|Standard Class|   AJ-10780|  Anthony Jacobs|  Corporate|United States| Springfield|    Virginia|      22153|  South|OFF-LA-10004272|Office Supplies|      Labels|           Avery 482|                2.89|       1|       0|  1.3583|\n",
      "|   867|CA-2011-149020|  10-01-13| 15-01-13|Standard Class|   AJ-10780|  Anthony Jacobs|  Corporate|United States| Springfield|    Virginia|      22153|  South|FUR-FU-10000965|      Furniture| Furnishings|\"Howard Miller 11...|               51.94|       1|       0| 21.2954|\n",
      "+------+--------------+----------+---------+--------------+-----------+----------------+-----------+-------------+------------+------------+-----------+-------+---------------+---------------+------------+--------------------+--------------------+--------+--------+--------+\n",
      "only showing top 20 rows\n",
      "\n"
     ]
    }
   ],
   "source": [
    "df = spark.read.csv('Sample - Superstore original file.csv', header=True)\n",
    "df.show()"
   ]
  },
  {
   "cell_type": "code",
   "execution_count": 5,
   "id": "33102308-aea3-4ab1-85e1-7c0672de1b95",
   "metadata": {},
   "outputs": [],
   "source": [
    "from pyspark.sql.functions import *"
   ]
  },
  {
   "cell_type": "code",
   "execution_count": 6,
   "id": "fd9e4202-1b6f-48cd-adc1-794498eef340",
   "metadata": {},
   "outputs": [
    {
     "name": "stdout",
     "output_type": "stream",
     "text": [
      "root\n",
      " |-- Row ID: string (nullable = true)\n",
      " |-- Order ID: string (nullable = true)\n",
      " |-- Order Date: string (nullable = true)\n",
      " |-- Ship Date: string (nullable = true)\n",
      " |-- Ship Mode: string (nullable = true)\n",
      " |-- Customer ID: string (nullable = true)\n",
      " |-- Customer Name: string (nullable = true)\n",
      " |-- Segment: string (nullable = true)\n",
      " |-- Country: string (nullable = true)\n",
      " |-- City: string (nullable = true)\n",
      " |-- State: string (nullable = true)\n",
      " |-- Postal Code: string (nullable = true)\n",
      " |-- Region: string (nullable = true)\n",
      " |-- Product ID: string (nullable = true)\n",
      " |-- Category: string (nullable = true)\n",
      " |-- Sub-Category: string (nullable = true)\n",
      " |-- Product Name: string (nullable = true)\n",
      " |-- Sales: string (nullable = true)\n",
      " |-- Quantity: string (nullable = true)\n",
      " |-- Discount: string (nullable = true)\n",
      " |-- Profit: string (nullable = true)\n",
      "\n"
     ]
    }
   ],
   "source": [
    "df.printSchema()"
   ]
  },
  {
   "cell_type": "code",
   "execution_count": 7,
   "id": "88ffc610-8302-43cf-82aa-c7bc00702689",
   "metadata": {},
   "outputs": [
    {
     "name": "stdout",
     "output_type": "stream",
     "text": [
      "+------+--------------+\n",
      "|Row ID|      Order ID|\n",
      "+------+--------------+\n",
      "| 79814|CA-2011-103800|\n",
      "|   740|CA-2011-112326|\n",
      "|   741|CA-2011-112326|\n",
      "|   742|CA-2011-112326|\n",
      "|  1760|CA-2011-141817|\n",
      "|  5328|CA-2011-130813|\n",
      "|  7181|CA-2011-106054|\n",
      "|  7475|CA-2011-167199|\n",
      "|  7476|CA-2011-167199|\n",
      "|  7477|CA-2011-167199|\n",
      "|  7478|CA-2011-167199|\n",
      "|  7479|CA-2011-167199|\n",
      "|  7480|CA-2011-167199|\n",
      "|  7481|CA-2011-167199|\n",
      "|  7661|CA-2011-105417|\n",
      "|  7662|CA-2011-105417|\n",
      "|   593|CA-2011-135405|\n",
      "|   594|CA-2011-135405|\n",
      "|   866|CA-2011-149020|\n",
      "|   867|CA-2011-149020|\n",
      "+------+--------------+\n",
      "only showing top 20 rows\n",
      "\n"
     ]
    }
   ],
   "source": [
    "df.select('Row ID','Order ID').show()"
   ]
  },
  {
   "cell_type": "code",
   "execution_count": 8,
   "id": "082ea783-1eb6-41ab-b2bb-3ce637ca84e1",
   "metadata": {},
   "outputs": [],
   "source": [
    "df = df.withColumn('Row ID', df['Row ID'].cast('int'))"
   ]
  },
  {
   "cell_type": "code",
   "execution_count": 9,
   "id": "9428a930-0937-4221-9059-0f26fdd49a4a",
   "metadata": {},
   "outputs": [],
   "source": [
    "df = df.withColumn('Order Date', to_date('Order Date', 'dd-MM-yy'))"
   ]
  },
  {
   "cell_type": "code",
   "execution_count": 10,
   "id": "a77176d5-f50e-49ae-9a8f-9918ae3924b4",
   "metadata": {},
   "outputs": [],
   "source": [
    "df = df.withColumn('Ship Date', to_date('Ship Date', 'dd-MM-yy'))"
   ]
  },
  {
   "cell_type": "code",
   "execution_count": 11,
   "id": "ac03de02-da53-4fcd-afc7-9355f9af1993",
   "metadata": {},
   "outputs": [],
   "source": [
    "df = df.withColumn('Sales', df['Sales'].cast('float'))"
   ]
  },
  {
   "cell_type": "code",
   "execution_count": 12,
   "id": "b75fc7a9-91da-4e25-8c81-ada3f09d51d5",
   "metadata": {},
   "outputs": [],
   "source": [
    "df = df.withColumn('Profit', df['Profit'].cast('float'))"
   ]
  },
  {
   "cell_type": "code",
   "execution_count": 13,
   "id": "21dbda9f-c764-4dbd-9b81-0c50e339ba25",
   "metadata": {},
   "outputs": [],
   "source": [
    "df = df.withColumn('Discount', df['Discount'].cast('float'))"
   ]
  },
  {
   "cell_type": "code",
   "execution_count": 14,
   "id": "bf4cafe6-0fe3-44d9-b9ec-140e1e6c3f8a",
   "metadata": {},
   "outputs": [],
   "source": [
    "df = df.withColumn('Quantity', df['Quantity'].cast('int'))"
   ]
  },
  {
   "cell_type": "code",
   "execution_count": 15,
   "id": "a0b57f01-e0d3-458d-bc3d-30236725abce",
   "metadata": {},
   "outputs": [
    {
     "name": "stdout",
     "output_type": "stream",
     "text": [
      "+------+--------------+----------+----------+--------------+-----------+----------------+-----------+-------------+------------+------------+-----------+-------+---------------+---------------+------------+--------------------+-------+--------+--------+--------+\n",
      "|Row ID|      Order ID|Order Date| Ship Date|     Ship Mode|Customer ID|   Customer Name|    Segment|      Country|        City|       State|Postal Code| Region|     Product ID|       Category|Sub-Category|        Product Name|  Sales|Quantity|Discount|  Profit|\n",
      "+------+--------------+----------+----------+--------------+-----------+----------------+-----------+-------------+------------+------------+-----------+-------+---------------+---------------+------------+--------------------+-------+--------+--------+--------+\n",
      "| 79814|CA-2011-103800|2013-01-03|2013-01-07|Standard Class|   DP-13000|   Darren Powers|   Consumer|United States|     Houston|       Texas|      77095|Central|OFF-PA-10000174|Office Supplies|       Paper|\"Message Book, Wi...|   null|      16|     2.0|     0.2|\n",
      "|   740|CA-2011-112326|2013-01-04|2013-01-08|Standard Class|   PO-19195|   Phillina Ober|Home Office|United States|  Naperville|    Illinois|      60540|Central|OFF-LA-10003223|Office Supplies|      Labels|           Avery 508| 11.784|       3|     0.2|  4.2717|\n",
      "|   741|CA-2011-112326|2013-01-04|2013-01-08|Standard Class|   PO-19195|   Phillina Ober|Home Office|United States|  Naperville|    Illinois|      60540|Central|OFF-ST-10002743|Office Supplies|     Storage|SAFCO Boltless St...|272.736|       3|     0.2|-64.7748|\n",
      "|   742|CA-2011-112326|2013-01-04|2013-01-08|Standard Class|   PO-19195|   Phillina Ober|Home Office|United States|  Naperville|    Illinois|      60540|Central|OFF-BI-10004094|Office Supplies|     Binders|GBC Standard Plas...|   3.54|       2|     0.8|  -5.487|\n",
      "|  1760|CA-2011-141817|2013-01-05|2013-01-12|Standard Class|   MB-18085|      Mick Brown|   Consumer|United States|Philadelphia|Pennsylvania|      19143|   East|OFF-AR-10003478|Office Supplies|         Art|Avery Hi-Liter Ev...| 19.536|       3|     0.2|   4.884|\n",
      "|  5328|CA-2011-130813|2013-01-06|2013-01-08|  Second Class|   LS-17230|Lycoris Saunders|   Consumer|United States| Los Angeles|  California|      90049|   West|OFF-PA-10002005|Office Supplies|       Paper|           Xerox 225|  19.44|       3|     0.0|  9.3312|\n",
      "|  7181|CA-2011-106054|2013-01-06|2013-01-07|   First Class|   JO-15145|   Jack O'Briant|  Corporate|United States|      Athens|     Georgia|      30605|  South|OFF-AR-10002399|Office Supplies|         Art|Dixon Prang Water...|  12.78|       3|     0.0|  5.2398|\n",
      "|  7475|CA-2011-167199|2013-01-06|2013-01-10|Standard Class|   ME-17320|   Maria Etezadi|Home Office|United States|   Henderson|    Kentucky|      42420|  South|FUR-CH-10004063|      Furniture|      Chairs|Global Deluxe Hig...|2573.82|       9|     0.0|746.4078|\n",
      "|  7476|CA-2011-167199|2013-01-06|2013-01-10|Standard Class|   ME-17320|   Maria Etezadi|Home Office|United States|   Henderson|    Kentucky|      42420|  South|OFF-BI-10004632|Office Supplies|     Binders|Ibico Hi-Tech Man...| 609.98|       2|     0.0| 274.491|\n",
      "|  7477|CA-2011-167199|2013-01-06|2013-01-10|Standard Class|   ME-17320|   Maria Etezadi|Home Office|United States|   Henderson|    Kentucky|      42420|  South|OFF-AR-10001662|Office Supplies|         Art|Rogers Handheld B...|   5.48|       2|     0.0|  1.4796|\n",
      "|  7478|CA-2011-167199|2013-01-06|2013-01-10|Standard Class|   ME-17320|   Maria Etezadi|Home Office|United States|   Henderson|    Kentucky|      42420|  South|TEC-PH-10004977|     Technology|      Phones|         GE 30524EE4| 391.98|       2|     0.0|113.6742|\n",
      "|  7479|CA-2011-167199|2013-01-06|2013-01-10|Standard Class|   ME-17320|   Maria Etezadi|Home Office|United States|   Henderson|    Kentucky|      42420|  South|TEC-PH-10004539|     Technology|      Phones|Wireless Extender...| 755.96|       4|     0.0|204.1092|\n",
      "|  7480|CA-2011-167199|2013-01-06|2013-01-10|Standard Class|   ME-17320|   Maria Etezadi|Home Office|United States|   Henderson|    Kentucky|      42420|  South|OFF-FA-10001883|Office Supplies|   Fasteners|Alliance Super-Si...|  31.12|       4|     0.0|  0.3112|\n",
      "|  7481|CA-2011-167199|2013-01-06|2013-01-10|Standard Class|   ME-17320|   Maria Etezadi|Home Office|United States|   Henderson|    Kentucky|      42420|  South|OFF-PA-10000955|Office Supplies|       Paper|Southworth 25% Co...|   6.54|       1|     0.0|  3.0084|\n",
      "|  7661|CA-2011-105417|2013-01-07|2013-01-12|Standard Class|   VS-21820|Vivek Sundaresam|   Consumer|United States|  Huntsville|       Texas|      77340|Central|FUR-FU-10004864|      Furniture| Furnishings|\"Howard Miller 14...| 76.728|       3|     0.6|-53.7096|\n",
      "|  7662|CA-2011-105417|2013-01-07|2013-01-12|Standard Class|   VS-21820|Vivek Sundaresam|   Consumer|United States|  Huntsville|       Texas|      77340|Central|OFF-BI-10003708|Office Supplies|     Binders|Acco Four Pocket ...|  10.43|       7|     0.8|-18.2525|\n",
      "|   593|CA-2011-135405|2013-01-09|2013-01-13|Standard Class|   MS-17830|   Melanie Seite|   Consumer|United States|      Laredo|       Texas|      78041|Central|OFF-AR-10004078|Office Supplies|         Art|          Newell 312|  9.344|       2|     0.2|   1.168|\n",
      "|   594|CA-2011-135405|2013-01-09|2013-01-13|Standard Class|   MS-17830|   Melanie Seite|   Consumer|United States|      Laredo|       Texas|      78041|Central|TEC-AC-10001266|     Technology| Accessories|Memorex Micro Tra...|   31.2|       3|     0.2|    9.75|\n",
      "|   866|CA-2011-149020|2013-01-10|2013-01-15|Standard Class|   AJ-10780|  Anthony Jacobs|  Corporate|United States| Springfield|    Virginia|      22153|  South|OFF-LA-10004272|Office Supplies|      Labels|           Avery 482|   2.89|       1|     0.0|  1.3583|\n",
      "|   867|CA-2011-149020|2013-01-10|2013-01-15|Standard Class|   AJ-10780|  Anthony Jacobs|  Corporate|United States| Springfield|    Virginia|      22153|  South|FUR-FU-10000965|      Furniture| Furnishings|\"Howard Miller 11...|  51.94|       1|     0.0| 21.2954|\n",
      "+------+--------------+----------+----------+--------------+-----------+----------------+-----------+-------------+------------+------------+-----------+-------+---------------+---------------+------------+--------------------+-------+--------+--------+--------+\n",
      "only showing top 20 rows\n",
      "\n"
     ]
    }
   ],
   "source": [
    "df.show()"
   ]
  },
  {
   "cell_type": "code",
   "execution_count": 16,
   "id": "d9c368ae-5953-4c36-8b0d-868a240331e0",
   "metadata": {},
   "outputs": [
    {
     "name": "stdout",
     "output_type": "stream",
     "text": [
      "root\n",
      " |-- Row ID: integer (nullable = true)\n",
      " |-- Order ID: string (nullable = true)\n",
      " |-- Order Date: date (nullable = true)\n",
      " |-- Ship Date: date (nullable = true)\n",
      " |-- Ship Mode: string (nullable = true)\n",
      " |-- Customer ID: string (nullable = true)\n",
      " |-- Customer Name: string (nullable = true)\n",
      " |-- Segment: string (nullable = true)\n",
      " |-- Country: string (nullable = true)\n",
      " |-- City: string (nullable = true)\n",
      " |-- State: string (nullable = true)\n",
      " |-- Postal Code: string (nullable = true)\n",
      " |-- Region: string (nullable = true)\n",
      " |-- Product ID: string (nullable = true)\n",
      " |-- Category: string (nullable = true)\n",
      " |-- Sub-Category: string (nullable = true)\n",
      " |-- Product Name: string (nullable = true)\n",
      " |-- Sales: float (nullable = true)\n",
      " |-- Quantity: integer (nullable = true)\n",
      " |-- Discount: float (nullable = true)\n",
      " |-- Profit: float (nullable = true)\n",
      "\n"
     ]
    }
   ],
   "source": [
    "df.printSchema()"
   ]
  },
  {
   "cell_type": "code",
   "execution_count": 17,
   "id": "bf670f09-4f02-478e-8e40-88c480149d0a",
   "metadata": {},
   "outputs": [
    {
     "name": "stdout",
     "output_type": "stream",
     "text": [
      "+---------------+-----------------+------------------+\n",
      "|       Category|       sum(Sales)|       sum(Profit)|\n",
      "+---------------+-----------------+------------------+\n",
      "|Office Supplies|703502.9273704886|120632.87826035172|\n",
      "|      Furniture|733046.8596462011|19686.427146330476|\n",
      "|     Technology|835900.0648635626|145388.29595325142|\n",
      "+---------------+-----------------+------------------+\n",
      "\n"
     ]
    }
   ],
   "source": [
    "df.groupby('Category').sum('Sales','Profit').show()"
   ]
  },
  {
   "cell_type": "code",
   "execution_count": 18,
   "id": "eb697d35-1b87-4946-bf0f-9a9c7c878f7a",
   "metadata": {},
   "outputs": [],
   "source": [
    "from pyspark.sql.functions import sum,avg,round"
   ]
  },
  {
   "cell_type": "code",
   "execution_count": 19,
   "id": "31c57f04-fc71-4c86-87ac-4d2d0009f895",
   "metadata": {},
   "outputs": [
    {
     "name": "stdout",
     "output_type": "stream",
     "text": [
      "+---------------+-----------------+-----------------+\n",
      "|       Category|        sum_sales|       avg_profit|\n",
      "+---------------+-----------------+-----------------+\n",
      "|Office Supplies|703502.9273704886|20.01873187194685|\n",
      "|      Furniture|733046.8596462011|9.281672393366561|\n",
      "|     Technology|835900.0648635626|78.71591551340087|\n",
      "+---------------+-----------------+-----------------+\n",
      "\n"
     ]
    }
   ],
   "source": [
    "df.groupby('Category').agg(sum('Sales').alias('sum_sales'),avg('Profit').alias('avg_profit')).show()"
   ]
  },
  {
   "cell_type": "code",
   "execution_count": 20,
   "id": "4da3241d-afa7-4495-8419-bf75f1ff600e",
   "metadata": {},
   "outputs": [
    {
     "name": "stdout",
     "output_type": "stream",
     "text": [
      "+------+--------------+----------+----------+--------------+-----------+-----------------+-----------+-------------+---------------+--------------+-----------+-------+---------------+---------+------------+--------------------+-------+--------+--------+--------+\n",
      "|Row ID|      Order ID|Order Date| Ship Date|     Ship Mode|Customer ID|    Customer Name|    Segment|      Country|           City|         State|Postal Code| Region|     Product ID| Category|Sub-Category|        Product Name|  Sales|Quantity|Discount|  Profit|\n",
      "+------+--------------+----------+----------+--------------+-----------+-----------------+-----------+-------------+---------------+--------------+-----------+-------+---------------+---------+------------+--------------------+-------+--------+--------+--------+\n",
      "|  7475|CA-2011-167199|2013-01-06|2013-01-10|Standard Class|   ME-17320|    Maria Etezadi|Home Office|United States|      Henderson|      Kentucky|      42420|  South|FUR-CH-10004063|Furniture|      Chairs|Global Deluxe Hig...|2573.82|       9|     0.0|746.4078|\n",
      "|   867|CA-2011-149020|2013-01-10|2013-01-15|Standard Class|   AJ-10780|   Anthony Jacobs|  Corporate|United States|    Springfield|      Virginia|      22153|  South|FUR-FU-10000965|Furniture| Furnishings|\"Howard Miller 11...|  51.94|       1|     0.0| 21.2954|\n",
      "|   717|CA-2011-130092|2013-01-11|2013-01-14|   First Class|   SV-20365|      Seth Vernon|   Consumer|United States|          Dover|      Delaware|      19901|   East|FUR-FU-10000010|Furniture| Furnishings|DAX Value U-Chann...|   9.94|       2|     0.0|  3.0814|\n",
      "|  2979|CA-2011-109232|2013-01-13|2013-01-16|  Second Class|   ND-18370|Natalie DeCherney|   Consumer|United States| Mount Pleasant|South Carolina|      29464|  South|FUR-CH-10000422|Furniture|      Chairs|Global Highback L...| 545.94|       6|     0.0| 87.3504|\n",
      "|  4939|CA-2011-157147|2013-01-13|2013-01-18|Standard Class|   BD-11605|     Brian Dahlen|   Consumer|United States|  San Francisco|    California|      94109|   West|FUR-BO-10003034|Furniture|   Bookcases|O'Sullivan Elevat...|333.999|       3|    0.15|  3.9294|\n",
      "|   971|CA-2011-115791|2013-01-16|2013-01-18|  Second Class|   DL-13315|Delfina Latchford|   Consumer|United States|   Philadelphia|  Pennsylvania|      19134|   East|FUR-FU-10001095|Furniture| Furnishings|DAX Black Cherry ...|127.104|       6|     0.2| 28.5984|\n",
      "|  1124|US-2011-147627|2013-01-20|2013-01-26|Standard Class|   HL-15040|     Hunter Lopez|   Consumer|United States|      Jonesboro|      Arkansas|      72401|  South|FUR-FU-10003194|Furniture| Furnishings|Eldon Expressions...|   38.6|       4|     0.0|   11.58|\n",
      "|  1127|US-2011-147627|2013-01-20|2013-01-26|Standard Class|   HL-15040|     Hunter Lopez|   Consumer|United States|      Jonesboro|      Arkansas|      72401|  South|FUR-CH-10002331|Furniture|      Chairs|Hon 4700 Series M...|1067.94|       3|     0.0|224.2674|\n",
      "|  5738|CA-2011-148614|2013-01-20|2013-01-25|Standard Class|   MV-17485|    Mark Van Huff|   Consumer|United States|    Los Angeles|    California|      90049|   West|FUR-FU-10003194|Furniture| Furnishings|Eldon Expressions...|   19.3|       2|     0.0|    5.79|\n",
      "|  6328|CA-2011-167927|2013-01-20|2013-01-26|Standard Class|   XP-21865|     Xylona Preis|   Consumer|United States|       Westland|      Michigan|      48185|Central|FUR-FU-10002918|Furniture| Furnishings|Eldon ClusterMat ...| 272.94|       3|     0.0| 30.0234|\n",
      "|  6333|CA-2011-167927|2013-01-20|2013-01-26|Standard Class|   XP-21865|     Xylona Preis|   Consumer|United States|       Westland|      Michigan|      48185|Central|FUR-FU-10002268|Furniture| Furnishings|Ultra Door Push P...|  14.73|       3|     0.0|  4.8609|\n",
      "|  9990|CA-2011-110422|2013-01-21|2013-01-23|  Second Class|   TB-21400| Tom Boeckenhauer|   Consumer|United States|          Miami|       Florida|      33180|  South|FUR-FU-10001889|Furniture| Furnishings|Ultra Door Pull H...| 25.248|       3|     0.2|  4.1028|\n",
      "|  2579|US-2011-155502|2013-01-26|2013-01-31|Standard Class|   SD-20485|  Shirley Daniels|Home Office|United States|     Alexandria|      Virginia|      22304|  South|FUR-FU-10004587|Furniture| Furnishings|GE General Use Ha...|  62.82|       3|     0.0| 30.7818|\n",
      "|  2584|US-2011-155502|2013-01-26|2013-01-31|Standard Class|   SD-20485|  Shirley Daniels|Home Office|United States|     Alexandria|      Virginia|      22304|  South|FUR-FU-10001847|Furniture| Furnishings|Eldon Image Serie...|  12.42|       3|     0.0|  4.4712|\n",
      "|  8151|CA-2011-167997|2013-01-26|2013-01-29|   First Class|   CA-11965|      Carol Adams|  Corporate|United States|     Rapid City|  South Dakota|      57701|Central|FUR-BO-10004409|Furniture|   Bookcases|Safco Value Mate ...| 141.96|       2|     0.0| 39.7488|\n",
      "|  3366|CA-2011-115161|2013-01-31|2013-02-02|   First Class|   LC-17050|     Liz Carlisle|   Consumer|United States|  Mission Viejo|    California|      92691|   West|FUR-BO-10003966|Furniture|   Bookcases|Sauder Facets Col...|290.666|       2|    0.15|  3.4196|\n",
      "|  9267|CA-2011-125759|2013-02-08|2013-02-09|   First Class|   NM-18445|     Nathan Mautz|Home Office|United States|North Las Vegas|        Nevada|      89031|   West|FUR-FU-10002111|Furniture| Furnishings|Master Caster Doo...|  14.56|       2|     0.0|  5.5328|\n",
      "|  5632|CA-2011-127614|2013-02-11|2013-02-15|Standard Class|   NF-18385| Natalie Fritzler|   Consumer|United States|     Chesapeake|      Virginia|      23320|  South|FUR-TA-10003715|Furniture|      Tables|Hon 2111 Invitati...|1256.22|       6|     0.0| 75.3732|\n",
      "|  9255|CA-2011-168368|2013-02-11|2013-02-15|  Second Class|   GA-14725|    Guy Armstrong|   Consumer|United States|       Columbia|      Missouri|      65203|Central|FUR-CH-10001146|Furniture|      Chairs|Global Value Mid-...|  60.89|       1|     0.0| 15.2225|\n",
      "|  4522|CA-2011-109491|2013-02-20|2013-02-26|Standard Class|   LC-16930|   Linda Cazamias|  Corporate|United States|       Richmond|       Indiana|      47374|Central|FUR-FU-10000221|Furniture| Furnishings|Master Caster Doo...|  20.32|       4|     0.0|  6.9088|\n",
      "+------+--------------+----------+----------+--------------+-----------+-----------------+-----------+-------------+---------------+--------------+-----------+-------+---------------+---------+------------+--------------------+-------+--------+--------+--------+\n",
      "only showing top 20 rows\n",
      "\n"
     ]
    }
   ],
   "source": [
    "df.where((df['Profit']>0) & (df['Category']=='Furniture')).show()"
   ]
  },
  {
   "cell_type": "code",
   "execution_count": 21,
   "id": "95360bc6-7cc6-46ee-b6e7-a459a962897c",
   "metadata": {},
   "outputs": [
    {
     "name": "stdout",
     "output_type": "stream",
     "text": [
      "+---------+--------+\n",
      "| Category|  Profit|\n",
      "+---------+--------+\n",
      "|Furniture|746.4078|\n",
      "|Furniture| 21.2954|\n",
      "|Furniture|  3.0814|\n",
      "|Furniture| 87.3504|\n",
      "|Furniture|  3.9294|\n",
      "|Furniture| 28.5984|\n",
      "|Furniture|   11.58|\n",
      "|Furniture|224.2674|\n",
      "|Furniture|    5.79|\n",
      "|Furniture| 30.0234|\n",
      "|Furniture|  4.8609|\n",
      "|Furniture|  4.1028|\n",
      "|Furniture| 30.7818|\n",
      "|Furniture|  4.4712|\n",
      "|Furniture| 39.7488|\n",
      "|Furniture|  3.4196|\n",
      "|Furniture|  5.5328|\n",
      "|Furniture| 75.3732|\n",
      "|Furniture| 15.2225|\n",
      "|Furniture|  6.9088|\n",
      "+---------+--------+\n",
      "only showing top 20 rows\n",
      "\n"
     ]
    }
   ],
   "source": [
    "df.select('Category','Profit').where((df['Profit']>0) & (df['Category']=='Furniture')).show()"
   ]
  },
  {
   "cell_type": "code",
   "execution_count": 22,
   "id": "773e2521-9dfe-4af3-9236-d3ca7788b5ec",
   "metadata": {},
   "outputs": [
    {
     "name": "stdout",
     "output_type": "stream",
     "text": [
      "+---------------+------------------+------------------+------------------+------------------+\n",
      "|       Category|       First Class|          Same Day|      Second Class|    Standard Class|\n",
      "+---------------+------------------+------------------+------------------+------------------+\n",
      "|Office Supplies|100363.32669895887|28677.190974771976| 156072.4273135662| 418389.9823831916|\n",
      "|      Furniture|109780.70851480961| 38571.72482395172| 155119.8080227375| 429574.6182847023|\n",
      "|     Technology|139350.81040596962|60104.048464775085|142149.61347794533|494295.59251487255|\n",
      "+---------------+------------------+------------------+------------------+------------------+\n",
      "\n"
     ]
    }
   ],
   "source": [
    "df.groupby('Category').pivot('Ship Mode').sum('Sales').show()"
   ]
  },
  {
   "cell_type": "code",
   "execution_count": 23,
   "id": "2beba70e-418a-427d-8da7-f6ef47808372",
   "metadata": {},
   "outputs": [
    {
     "name": "stdout",
     "output_type": "stream",
     "text": [
      "+---------------+-----------+--------+------------+--------------+\n",
      "|       Category|First Class|Same Day|Second Class|Standard Class|\n",
      "+---------------+-----------+--------+------------+--------------+\n",
      "|Office Supplies|  100363.33|28677.19|   156072.43|     418389.98|\n",
      "|      Furniture|  109780.71|38571.72|   155119.81|     429574.62|\n",
      "|     Technology|  139350.81|60104.05|   142149.61|     494295.59|\n",
      "+---------------+-----------+--------+------------+--------------+\n",
      "\n"
     ]
    }
   ],
   "source": [
    "df.groupby('Category').pivot('Ship Mode').agg(round(sum('Sales'),2)).show()"
   ]
  },
  {
   "cell_type": "code",
   "execution_count": 24,
   "id": "f586ebaa-83e4-4dd5-adbd-e7250d704eb2",
   "metadata": {},
   "outputs": [
    {
     "name": "stdout",
     "output_type": "stream",
     "text": [
      "+---------------+-----------+--------+------------+--------------+\n",
      "|       Category|First Class|Same Day|Second Class|Standard Class|\n",
      "+---------------+-----------+--------+------------+--------------+\n",
      "|Office Supplies|  100363.33|28677.19|   156072.43|     418389.98|\n",
      "|      Furniture|  109780.71|38571.72|   155119.81|     429574.62|\n",
      "|     Technology|  139350.81|60104.05|   142149.61|     494295.59|\n",
      "+---------------+-----------+--------+------------+--------------+\n",
      "\n"
     ]
    }
   ],
   "source": [
    "df_pivot = df.groupby('Category').pivot('Ship Mode').agg(round(sum('Sales'),2))\n",
    "df_pivot.show()"
   ]
  },
  {
   "cell_type": "code",
   "execution_count": 25,
   "id": "53586694-7a34-4021-a124-aa4a0c3fd76a",
   "metadata": {},
   "outputs": [
    {
     "name": "stdout",
     "output_type": "stream",
     "text": [
      "+---------------+--------------+---------+\n",
      "|       Category|      Category|Ship Mode|\n",
      "+---------------+--------------+---------+\n",
      "|Office Supplies|   First Class|100363.33|\n",
      "|Office Supplies|      Same Day| 28677.19|\n",
      "|Office Supplies|  Second Class|156072.43|\n",
      "|Office Supplies|Standard Class|418389.98|\n",
      "|      Furniture|   First Class|109780.71|\n",
      "|      Furniture|      Same Day| 38571.72|\n",
      "|      Furniture|  Second Class|155119.81|\n",
      "|      Furniture|Standard Class|429574.62|\n",
      "|     Technology|   First Class|139350.81|\n",
      "|     Technology|      Same Day| 60104.05|\n",
      "|     Technology|  Second Class|142149.61|\n",
      "|     Technology|Standard Class|494295.59|\n",
      "+---------------+--------------+---------+\n",
      "\n"
     ]
    }
   ],
   "source": [
    "df_pivot.unpivot(['Category'],['First Class','Same Day','Second Class','Standard Class'],'Category','Ship Mode').show()"
   ]
  },
  {
   "cell_type": "code",
   "execution_count": 26,
   "id": "57878730-7cda-46e6-b29a-09caaeaeadcb",
   "metadata": {},
   "outputs": [
    {
     "name": "stdout",
     "output_type": "stream",
     "text": [
      "+---------------+\n",
      "|       Category|\n",
      "+---------------+\n",
      "|Office Supplies|\n",
      "|      Furniture|\n",
      "|     Technology|\n",
      "+---------------+\n",
      "\n"
     ]
    }
   ],
   "source": [
    "df.select('Category').distinct().show()"
   ]
  },
  {
   "cell_type": "code",
   "execution_count": 27,
   "id": "39286f13-0e3a-45ec-83e8-3d2db40bad14",
   "metadata": {},
   "outputs": [
    {
     "data": {
      "text/html": [
       "<div>\n",
       "<style scoped>\n",
       "    .dataframe tbody tr th:only-of-type {\n",
       "        vertical-align: middle;\n",
       "    }\n",
       "\n",
       "    .dataframe tbody tr th {\n",
       "        vertical-align: top;\n",
       "    }\n",
       "\n",
       "    .dataframe thead th {\n",
       "        text-align: right;\n",
       "    }\n",
       "</style>\n",
       "<table border=\"1\" class=\"dataframe\">\n",
       "  <thead>\n",
       "    <tr style=\"text-align: right;\">\n",
       "      <th></th>\n",
       "      <th>Category</th>\n",
       "    </tr>\n",
       "  </thead>\n",
       "  <tbody>\n",
       "    <tr>\n",
       "      <th>0</th>\n",
       "      <td>Office Supplies</td>\n",
       "    </tr>\n",
       "    <tr>\n",
       "      <th>1</th>\n",
       "      <td>Furniture</td>\n",
       "    </tr>\n",
       "    <tr>\n",
       "      <th>2</th>\n",
       "      <td>Technology</td>\n",
       "    </tr>\n",
       "  </tbody>\n",
       "</table>\n",
       "</div>"
      ],
      "text/plain": [
       "          Category\n",
       "0  Office Supplies\n",
       "1        Furniture\n",
       "2       Technology"
      ]
     },
     "execution_count": 27,
     "metadata": {},
     "output_type": "execute_result"
    }
   ],
   "source": [
    "df.select('Category').distinct().toPandas()"
   ]
  },
  {
   "cell_type": "code",
   "execution_count": 28,
   "id": "12b23d8f-6f00-4a67-b2ea-9cffa6a6bfee",
   "metadata": {},
   "outputs": [
    {
     "data": {
      "text/plain": [
       "['Office Supplies', 'Furniture', 'Technology']"
      ]
     },
     "execution_count": 28,
     "metadata": {},
     "output_type": "execute_result"
    }
   ],
   "source": [
    "list(df.select('Category').distinct().toPandas()['Category'])"
   ]
  },
  {
   "cell_type": "code",
   "execution_count": 29,
   "id": "6ff71c77-ed30-4fd2-9130-c64e6f5fd459",
   "metadata": {},
   "outputs": [
    {
     "name": "stdout",
     "output_type": "stream",
     "text": [
      "+---------------+--------------+---------+\n",
      "|       Category|      Category|Ship Mode|\n",
      "+---------------+--------------+---------+\n",
      "|Office Supplies|   First Class|100363.33|\n",
      "|Office Supplies|      Same Day| 28677.19|\n",
      "|Office Supplies|  Second Class|156072.43|\n",
      "|Office Supplies|Standard Class|418389.98|\n",
      "|      Furniture|   First Class|109780.71|\n",
      "|      Furniture|      Same Day| 38571.72|\n",
      "|      Furniture|  Second Class|155119.81|\n",
      "|      Furniture|Standard Class|429574.62|\n",
      "|     Technology|   First Class|139350.81|\n",
      "|     Technology|      Same Day| 60104.05|\n",
      "|     Technology|  Second Class|142149.61|\n",
      "|     Technology|Standard Class|494295.59|\n",
      "+---------------+--------------+---------+\n",
      "\n"
     ]
    }
   ],
   "source": [
    "df_pivot.unpivot(['Category'],list(df.select('Ship Mode').distinct().toPandas()['Ship Mode']),'Category','Ship Mode').show()"
   ]
  },
  {
   "cell_type": "code",
   "execution_count": 30,
   "id": "500f1155-ac4a-4db5-b73b-2c706912b2bd",
   "metadata": {},
   "outputs": [
    {
     "name": "stdout",
     "output_type": "stream",
     "text": [
      "+------+--------------+----------+----------+--------------+-----------+----------------+-----------+-------------+------------+------------+-----------+-------+---------------+---------------+------------+--------------------+-------+--------+--------+--------+\n",
      "|Row ID|      Order ID|Order Date| Ship Date|     Ship Mode|Customer ID|   Customer Name|    Segment|      Country|        City|       State|Postal Code| Region|     Product ID|       Category|Sub-Category|        Product Name|  Sales|Quantity|Discount|  Profit|\n",
      "+------+--------------+----------+----------+--------------+-----------+----------------+-----------+-------------+------------+------------+-----------+-------+---------------+---------------+------------+--------------------+-------+--------+--------+--------+\n",
      "| 79814|CA-2011-103800|2013-01-03|2013-01-07|Standard Class|   DP-13000|   Darren Powers|   Consumer|United States|     Houston|       Texas|      77095|Central|OFF-PA-10000174|Office Supplies|       Paper|\"Message Book, Wi...|   null|      16|     2.0|     0.2|\n",
      "|   740|CA-2011-112326|2013-01-04|2013-01-08|Standard Class|   PO-19195|   Phillina Ober|Home Office|United States|  Naperville|    Illinois|      60540|Central|OFF-LA-10003223|Office Supplies|      Labels|           Avery 508| 11.784|       3|     0.2|  4.2717|\n",
      "|   741|CA-2011-112326|2013-01-04|2013-01-08|Standard Class|   PO-19195|   Phillina Ober|Home Office|United States|  Naperville|    Illinois|      60540|Central|OFF-ST-10002743|Office Supplies|     Storage|SAFCO Boltless St...|272.736|       3|     0.2|-64.7748|\n",
      "|   742|CA-2011-112326|2013-01-04|2013-01-08|Standard Class|   PO-19195|   Phillina Ober|Home Office|United States|  Naperville|    Illinois|      60540|Central|OFF-BI-10004094|Office Supplies|     Binders|GBC Standard Plas...|   3.54|       2|     0.8|  -5.487|\n",
      "|  1760|CA-2011-141817|2013-01-05|2013-01-12|Standard Class|   MB-18085|      Mick Brown|   Consumer|United States|Philadelphia|Pennsylvania|      19143|   East|OFF-AR-10003478|Office Supplies|         Art|Avery Hi-Liter Ev...| 19.536|       3|     0.2|   4.884|\n",
      "|  5328|CA-2011-130813|2013-01-06|2013-01-08|  Second Class|   LS-17230|Lycoris Saunders|   Consumer|United States| Los Angeles|  California|      90049|   West|OFF-PA-10002005|Office Supplies|       Paper|           Xerox 225|  19.44|       3|     0.0|  9.3312|\n",
      "|  7181|CA-2011-106054|2013-01-06|2013-01-07|   First Class|   JO-15145|   Jack O'Briant|  Corporate|United States|      Athens|     Georgia|      30605|  South|OFF-AR-10002399|Office Supplies|         Art|Dixon Prang Water...|  12.78|       3|     0.0|  5.2398|\n",
      "|  7475|CA-2011-167199|2013-01-06|2013-01-10|Standard Class|   ME-17320|   Maria Etezadi|Home Office|United States|   Henderson|    Kentucky|      42420|  South|FUR-CH-10004063|      Furniture|      Chairs|Global Deluxe Hig...|2573.82|       9|     0.0|746.4078|\n",
      "|  7476|CA-2011-167199|2013-01-06|2013-01-10|Standard Class|   ME-17320|   Maria Etezadi|Home Office|United States|   Henderson|    Kentucky|      42420|  South|OFF-BI-10004632|Office Supplies|     Binders|Ibico Hi-Tech Man...| 609.98|       2|     0.0| 274.491|\n",
      "|  7477|CA-2011-167199|2013-01-06|2013-01-10|Standard Class|   ME-17320|   Maria Etezadi|Home Office|United States|   Henderson|    Kentucky|      42420|  South|OFF-AR-10001662|Office Supplies|         Art|Rogers Handheld B...|   5.48|       2|     0.0|  1.4796|\n",
      "|  7478|CA-2011-167199|2013-01-06|2013-01-10|Standard Class|   ME-17320|   Maria Etezadi|Home Office|United States|   Henderson|    Kentucky|      42420|  South|TEC-PH-10004977|     Technology|      Phones|         GE 30524EE4| 391.98|       2|     0.0|113.6742|\n",
      "|  7479|CA-2011-167199|2013-01-06|2013-01-10|Standard Class|   ME-17320|   Maria Etezadi|Home Office|United States|   Henderson|    Kentucky|      42420|  South|TEC-PH-10004539|     Technology|      Phones|Wireless Extender...| 755.96|       4|     0.0|204.1092|\n",
      "|  7480|CA-2011-167199|2013-01-06|2013-01-10|Standard Class|   ME-17320|   Maria Etezadi|Home Office|United States|   Henderson|    Kentucky|      42420|  South|OFF-FA-10001883|Office Supplies|   Fasteners|Alliance Super-Si...|  31.12|       4|     0.0|  0.3112|\n",
      "|  7481|CA-2011-167199|2013-01-06|2013-01-10|Standard Class|   ME-17320|   Maria Etezadi|Home Office|United States|   Henderson|    Kentucky|      42420|  South|OFF-PA-10000955|Office Supplies|       Paper|Southworth 25% Co...|   6.54|       1|     0.0|  3.0084|\n",
      "|  7661|CA-2011-105417|2013-01-07|2013-01-12|Standard Class|   VS-21820|Vivek Sundaresam|   Consumer|United States|  Huntsville|       Texas|      77340|Central|FUR-FU-10004864|      Furniture| Furnishings|\"Howard Miller 14...| 76.728|       3|     0.6|-53.7096|\n",
      "|  7662|CA-2011-105417|2013-01-07|2013-01-12|Standard Class|   VS-21820|Vivek Sundaresam|   Consumer|United States|  Huntsville|       Texas|      77340|Central|OFF-BI-10003708|Office Supplies|     Binders|Acco Four Pocket ...|  10.43|       7|     0.8|-18.2525|\n",
      "|   593|CA-2011-135405|2013-01-09|2013-01-13|Standard Class|   MS-17830|   Melanie Seite|   Consumer|United States|      Laredo|       Texas|      78041|Central|OFF-AR-10004078|Office Supplies|         Art|          Newell 312|  9.344|       2|     0.2|   1.168|\n",
      "|   594|CA-2011-135405|2013-01-09|2013-01-13|Standard Class|   MS-17830|   Melanie Seite|   Consumer|United States|      Laredo|       Texas|      78041|Central|TEC-AC-10001266|     Technology| Accessories|Memorex Micro Tra...|   31.2|       3|     0.2|    9.75|\n",
      "|   866|CA-2011-149020|2013-01-10|2013-01-15|Standard Class|   AJ-10780|  Anthony Jacobs|  Corporate|United States| Springfield|    Virginia|      22153|  South|OFF-LA-10004272|Office Supplies|      Labels|           Avery 482|   2.89|       1|     0.0|  1.3583|\n",
      "|   867|CA-2011-149020|2013-01-10|2013-01-15|Standard Class|   AJ-10780|  Anthony Jacobs|  Corporate|United States| Springfield|    Virginia|      22153|  South|FUR-FU-10000965|      Furniture| Furnishings|\"Howard Miller 11...|  51.94|       1|     0.0| 21.2954|\n",
      "+------+--------------+----------+----------+--------------+-----------+----------------+-----------+-------------+------------+------------+-----------+-------+---------------+---------------+------------+--------------------+-------+--------+--------+--------+\n",
      "only showing top 20 rows\n",
      "\n"
     ]
    }
   ],
   "source": [
    "df.show()"
   ]
  },
  {
   "cell_type": "code",
   "execution_count": 31,
   "id": "9b6b8b7d-96fa-4d7d-aadc-da7c082055ab",
   "metadata": {},
   "outputs": [
    {
     "name": "stdout",
     "output_type": "stream",
     "text": [
      "+-------+--------+---------+\n",
      "|  Sales|Quantity|  Revenue|\n",
      "+-------+--------+---------+\n",
      "|   null|      16|     null|\n",
      "| 11.784|       3|   35.352|\n",
      "|272.736|       3|  818.208|\n",
      "|   3.54|       2|     7.08|\n",
      "| 19.536|       3|58.607998|\n",
      "|  19.44|       3|    58.32|\n",
      "|  12.78|       3|    38.34|\n",
      "|2573.82|       9| 23164.38|\n",
      "| 609.98|       2|  1219.96|\n",
      "|   5.48|       2|    10.96|\n",
      "| 391.98|       2|   783.96|\n",
      "| 755.96|       4|  3023.84|\n",
      "|  31.12|       4|   124.48|\n",
      "|   6.54|       1|     6.54|\n",
      "| 76.728|       3|230.18399|\n",
      "|  10.43|       7|    73.01|\n",
      "|  9.344|       2|   18.688|\n",
      "|   31.2|       3|93.600006|\n",
      "|   2.89|       1|     2.89|\n",
      "|  51.94|       1|    51.94|\n",
      "+-------+--------+---------+\n",
      "only showing top 20 rows\n",
      "\n"
     ]
    }
   ],
   "source": [
    "df.select('Sales','Quantity').withColumn('Revenue', df.Sales * df.Quantity).show()"
   ]
  },
  {
   "cell_type": "code",
   "execution_count": 32,
   "id": "07284ba4-e474-465e-9303-9fa4d67e6dec",
   "metadata": {},
   "outputs": [],
   "source": [
    "df.createOrReplaceTempView('df_sql')"
   ]
  },
  {
   "cell_type": "code",
   "execution_count": 33,
   "id": "77760c96-f295-47b3-b292-ed3eda57e9a1",
   "metadata": {},
   "outputs": [
    {
     "name": "stdout",
     "output_type": "stream",
     "text": [
      "+------+--------------+----------+----------+--------------+-----------+----------------+-----------+-------------+------------+------------+-----------+-------+---------------+---------------+------------+--------------------+-------+--------+--------+--------+\n",
      "|Row ID|      Order ID|Order Date| Ship Date|     Ship Mode|Customer ID|   Customer Name|    Segment|      Country|        City|       State|Postal Code| Region|     Product ID|       Category|Sub-Category|        Product Name|  Sales|Quantity|Discount|  Profit|\n",
      "+------+--------------+----------+----------+--------------+-----------+----------------+-----------+-------------+------------+------------+-----------+-------+---------------+---------------+------------+--------------------+-------+--------+--------+--------+\n",
      "| 79814|CA-2011-103800|2013-01-03|2013-01-07|Standard Class|   DP-13000|   Darren Powers|   Consumer|United States|     Houston|       Texas|      77095|Central|OFF-PA-10000174|Office Supplies|       Paper|\"Message Book, Wi...|   null|      16|     2.0|     0.2|\n",
      "|   740|CA-2011-112326|2013-01-04|2013-01-08|Standard Class|   PO-19195|   Phillina Ober|Home Office|United States|  Naperville|    Illinois|      60540|Central|OFF-LA-10003223|Office Supplies|      Labels|           Avery 508| 11.784|       3|     0.2|  4.2717|\n",
      "|   741|CA-2011-112326|2013-01-04|2013-01-08|Standard Class|   PO-19195|   Phillina Ober|Home Office|United States|  Naperville|    Illinois|      60540|Central|OFF-ST-10002743|Office Supplies|     Storage|SAFCO Boltless St...|272.736|       3|     0.2|-64.7748|\n",
      "|   742|CA-2011-112326|2013-01-04|2013-01-08|Standard Class|   PO-19195|   Phillina Ober|Home Office|United States|  Naperville|    Illinois|      60540|Central|OFF-BI-10004094|Office Supplies|     Binders|GBC Standard Plas...|   3.54|       2|     0.8|  -5.487|\n",
      "|  1760|CA-2011-141817|2013-01-05|2013-01-12|Standard Class|   MB-18085|      Mick Brown|   Consumer|United States|Philadelphia|Pennsylvania|      19143|   East|OFF-AR-10003478|Office Supplies|         Art|Avery Hi-Liter Ev...| 19.536|       3|     0.2|   4.884|\n",
      "|  5328|CA-2011-130813|2013-01-06|2013-01-08|  Second Class|   LS-17230|Lycoris Saunders|   Consumer|United States| Los Angeles|  California|      90049|   West|OFF-PA-10002005|Office Supplies|       Paper|           Xerox 225|  19.44|       3|     0.0|  9.3312|\n",
      "|  7181|CA-2011-106054|2013-01-06|2013-01-07|   First Class|   JO-15145|   Jack O'Briant|  Corporate|United States|      Athens|     Georgia|      30605|  South|OFF-AR-10002399|Office Supplies|         Art|Dixon Prang Water...|  12.78|       3|     0.0|  5.2398|\n",
      "|  7475|CA-2011-167199|2013-01-06|2013-01-10|Standard Class|   ME-17320|   Maria Etezadi|Home Office|United States|   Henderson|    Kentucky|      42420|  South|FUR-CH-10004063|      Furniture|      Chairs|Global Deluxe Hig...|2573.82|       9|     0.0|746.4078|\n",
      "|  7476|CA-2011-167199|2013-01-06|2013-01-10|Standard Class|   ME-17320|   Maria Etezadi|Home Office|United States|   Henderson|    Kentucky|      42420|  South|OFF-BI-10004632|Office Supplies|     Binders|Ibico Hi-Tech Man...| 609.98|       2|     0.0| 274.491|\n",
      "|  7477|CA-2011-167199|2013-01-06|2013-01-10|Standard Class|   ME-17320|   Maria Etezadi|Home Office|United States|   Henderson|    Kentucky|      42420|  South|OFF-AR-10001662|Office Supplies|         Art|Rogers Handheld B...|   5.48|       2|     0.0|  1.4796|\n",
      "|  7478|CA-2011-167199|2013-01-06|2013-01-10|Standard Class|   ME-17320|   Maria Etezadi|Home Office|United States|   Henderson|    Kentucky|      42420|  South|TEC-PH-10004977|     Technology|      Phones|         GE 30524EE4| 391.98|       2|     0.0|113.6742|\n",
      "|  7479|CA-2011-167199|2013-01-06|2013-01-10|Standard Class|   ME-17320|   Maria Etezadi|Home Office|United States|   Henderson|    Kentucky|      42420|  South|TEC-PH-10004539|     Technology|      Phones|Wireless Extender...| 755.96|       4|     0.0|204.1092|\n",
      "|  7480|CA-2011-167199|2013-01-06|2013-01-10|Standard Class|   ME-17320|   Maria Etezadi|Home Office|United States|   Henderson|    Kentucky|      42420|  South|OFF-FA-10001883|Office Supplies|   Fasteners|Alliance Super-Si...|  31.12|       4|     0.0|  0.3112|\n",
      "|  7481|CA-2011-167199|2013-01-06|2013-01-10|Standard Class|   ME-17320|   Maria Etezadi|Home Office|United States|   Henderson|    Kentucky|      42420|  South|OFF-PA-10000955|Office Supplies|       Paper|Southworth 25% Co...|   6.54|       1|     0.0|  3.0084|\n",
      "|  7661|CA-2011-105417|2013-01-07|2013-01-12|Standard Class|   VS-21820|Vivek Sundaresam|   Consumer|United States|  Huntsville|       Texas|      77340|Central|FUR-FU-10004864|      Furniture| Furnishings|\"Howard Miller 14...| 76.728|       3|     0.6|-53.7096|\n",
      "|  7662|CA-2011-105417|2013-01-07|2013-01-12|Standard Class|   VS-21820|Vivek Sundaresam|   Consumer|United States|  Huntsville|       Texas|      77340|Central|OFF-BI-10003708|Office Supplies|     Binders|Acco Four Pocket ...|  10.43|       7|     0.8|-18.2525|\n",
      "|   593|CA-2011-135405|2013-01-09|2013-01-13|Standard Class|   MS-17830|   Melanie Seite|   Consumer|United States|      Laredo|       Texas|      78041|Central|OFF-AR-10004078|Office Supplies|         Art|          Newell 312|  9.344|       2|     0.2|   1.168|\n",
      "|   594|CA-2011-135405|2013-01-09|2013-01-13|Standard Class|   MS-17830|   Melanie Seite|   Consumer|United States|      Laredo|       Texas|      78041|Central|TEC-AC-10001266|     Technology| Accessories|Memorex Micro Tra...|   31.2|       3|     0.2|    9.75|\n",
      "|   866|CA-2011-149020|2013-01-10|2013-01-15|Standard Class|   AJ-10780|  Anthony Jacobs|  Corporate|United States| Springfield|    Virginia|      22153|  South|OFF-LA-10004272|Office Supplies|      Labels|           Avery 482|   2.89|       1|     0.0|  1.3583|\n",
      "|   867|CA-2011-149020|2013-01-10|2013-01-15|Standard Class|   AJ-10780|  Anthony Jacobs|  Corporate|United States| Springfield|    Virginia|      22153|  South|FUR-FU-10000965|      Furniture| Furnishings|\"Howard Miller 11...|  51.94|       1|     0.0| 21.2954|\n",
      "+------+--------------+----------+----------+--------------+-----------+----------------+-----------+-------------+------------+------------+-----------+-------+---------------+---------------+------------+--------------------+-------+--------+--------+--------+\n",
      "only showing top 20 rows\n",
      "\n"
     ]
    }
   ],
   "source": [
    "spark.sql('select * from df_sql').show()"
   ]
  },
  {
   "cell_type": "code",
   "execution_count": 34,
   "id": "07e056d0-626c-45f3-9bd6-17ede727d1e5",
   "metadata": {},
   "outputs": [
    {
     "name": "stdout",
     "output_type": "stream",
     "text": [
      "+---------------+---------+\n",
      "|       category|sum_sales|\n",
      "+---------------+---------+\n",
      "|Office Supplies|703502.93|\n",
      "|      Furniture|733046.86|\n",
      "|     Technology|835900.06|\n",
      "+---------------+---------+\n",
      "\n"
     ]
    }
   ],
   "source": [
    "spark.sql(\"select category, round(sum(sales),2) as sum_sales from df_sql group by category\").show()"
   ]
  },
  {
   "cell_type": "code",
   "execution_count": 35,
   "id": "2fe4f3ea-daeb-4e6b-b853-3282a9357f57",
   "metadata": {},
   "outputs": [],
   "source": [
    "from pyspark.sql.functions import concat, lit"
   ]
  },
  {
   "cell_type": "code",
   "execution_count": 36,
   "id": "d43d599b-7d7d-4a98-98ef-eb495c34de4d",
   "metadata": {},
   "outputs": [
    {
     "name": "stdout",
     "output_type": "stream",
     "text": [
      "+---------------+------------+---------------------------+\n",
      "|Category       |Sub-Category|Category + Sub-Category    |\n",
      "+---------------+------------+---------------------------+\n",
      "|Office Supplies|Paper       |Office Supplies + Paper    |\n",
      "|Office Supplies|Labels      |Office Supplies + Labels   |\n",
      "|Office Supplies|Storage     |Office Supplies + Storage  |\n",
      "|Office Supplies|Binders     |Office Supplies + Binders  |\n",
      "|Office Supplies|Art         |Office Supplies + Art      |\n",
      "|Office Supplies|Paper       |Office Supplies + Paper    |\n",
      "|Office Supplies|Art         |Office Supplies + Art      |\n",
      "|Furniture      |Chairs      |Furniture + Chairs         |\n",
      "|Office Supplies|Binders     |Office Supplies + Binders  |\n",
      "|Office Supplies|Art         |Office Supplies + Art      |\n",
      "|Technology     |Phones      |Technology + Phones        |\n",
      "|Technology     |Phones      |Technology + Phones        |\n",
      "|Office Supplies|Fasteners   |Office Supplies + Fasteners|\n",
      "|Office Supplies|Paper       |Office Supplies + Paper    |\n",
      "|Furniture      |Furnishings |Furniture + Furnishings    |\n",
      "|Office Supplies|Binders     |Office Supplies + Binders  |\n",
      "|Office Supplies|Art         |Office Supplies + Art      |\n",
      "|Technology     |Accessories |Technology + Accessories   |\n",
      "|Office Supplies|Labels      |Office Supplies + Labels   |\n",
      "|Furniture      |Furnishings |Furniture + Furnishings    |\n",
      "+---------------+------------+---------------------------+\n",
      "only showing top 20 rows\n",
      "\n"
     ]
    }
   ],
   "source": [
    "df.select('Category','Sub-Category').withColumn('Category + Sub-Category', concat(df.Category, lit(' + '), df['Sub-Category'])).show(truncate=False)"
   ]
  },
  {
   "cell_type": "code",
   "execution_count": 37,
   "id": "6b6b1cce-75c3-4310-a2d2-4e4ff30b1f5f",
   "metadata": {},
   "outputs": [],
   "source": [
    "from pyspark.sql.functions import year, month"
   ]
  },
  {
   "cell_type": "code",
   "execution_count": 38,
   "id": "330965e6-7d47-4b87-8dbd-4493f3a46281",
   "metadata": {},
   "outputs": [
    {
     "name": "stdout",
     "output_type": "stream",
     "text": [
      "+----------+----------+\n",
      "|Order Date|Year of OD|\n",
      "+----------+----------+\n",
      "|2013-01-03|      2013|\n",
      "|2013-01-04|      2013|\n",
      "|2013-01-04|      2013|\n",
      "|2013-01-04|      2013|\n",
      "|2013-01-05|      2013|\n",
      "|2013-01-06|      2013|\n",
      "|2013-01-06|      2013|\n",
      "|2013-01-06|      2013|\n",
      "|2013-01-06|      2013|\n",
      "|2013-01-06|      2013|\n",
      "|2013-01-06|      2013|\n",
      "|2013-01-06|      2013|\n",
      "|2013-01-06|      2013|\n",
      "|2013-01-06|      2013|\n",
      "|2013-01-07|      2013|\n",
      "|2013-01-07|      2013|\n",
      "|2013-01-09|      2013|\n",
      "|2013-01-09|      2013|\n",
      "|2013-01-10|      2013|\n",
      "|2013-01-10|      2013|\n",
      "+----------+----------+\n",
      "only showing top 20 rows\n",
      "\n"
     ]
    }
   ],
   "source": [
    "df.select('Order Date').withColumn('Year of OD', year(df['Order Date'])).show()"
   ]
  },
  {
   "cell_type": "code",
   "execution_count": 39,
   "id": "4b5348d9-9e0f-437a-9c84-a3219912f006",
   "metadata": {},
   "outputs": [
    {
     "name": "stdout",
     "output_type": "stream",
     "text": [
      "+----------+----------+\n",
      "|Order Date|Year of OD|\n",
      "+----------+----------+\n",
      "|2013-01-03|         1|\n",
      "|2013-01-04|         1|\n",
      "|2013-01-04|         1|\n",
      "|2013-01-04|         1|\n",
      "|2013-01-05|         1|\n",
      "|2013-01-06|         1|\n",
      "|2013-01-06|         1|\n",
      "|2013-01-06|         1|\n",
      "|2013-01-06|         1|\n",
      "|2013-01-06|         1|\n",
      "|2013-01-06|         1|\n",
      "|2013-01-06|         1|\n",
      "|2013-01-06|         1|\n",
      "|2013-01-06|         1|\n",
      "|2013-01-07|         1|\n",
      "|2013-01-07|         1|\n",
      "|2013-01-09|         1|\n",
      "|2013-01-09|         1|\n",
      "|2013-01-10|         1|\n",
      "|2013-01-10|         1|\n",
      "+----------+----------+\n",
      "only showing top 20 rows\n",
      "\n"
     ]
    }
   ],
   "source": [
    "df.select('Order Date').withColumn('Year of OD', month(df['Order Date'])).show()"
   ]
  },
  {
   "cell_type": "code",
   "execution_count": 40,
   "id": "87a7cf84-e279-4d2d-aa12-b023c88af37c",
   "metadata": {},
   "outputs": [
    {
     "name": "stdout",
     "output_type": "stream",
     "text": [
      "+----------+-----------+\n",
      "|Order Date|Month of OD|\n",
      "+----------+-----------+\n",
      "|2013-01-03|        Jan|\n",
      "|2013-01-04|        Jan|\n",
      "|2013-01-04|        Jan|\n",
      "|2013-01-04|        Jan|\n",
      "|2013-01-05|        Jan|\n",
      "|2013-01-06|        Jan|\n",
      "|2013-01-06|        Jan|\n",
      "|2013-01-06|        Jan|\n",
      "|2013-01-06|        Jan|\n",
      "|2013-01-06|        Jan|\n",
      "|2013-01-06|        Jan|\n",
      "|2013-01-06|        Jan|\n",
      "|2013-01-06|        Jan|\n",
      "|2013-01-06|        Jan|\n",
      "|2013-01-07|        Jan|\n",
      "|2013-01-07|        Jan|\n",
      "|2013-01-09|        Jan|\n",
      "|2013-01-09|        Jan|\n",
      "|2013-01-10|        Jan|\n",
      "|2013-01-10|        Jan|\n",
      "+----------+-----------+\n",
      "only showing top 20 rows\n",
      "\n"
     ]
    }
   ],
   "source": [
    "df.select('Order Date').withColumn('Month of OD',date_format('Order Date','MMM')).show()"
   ]
  },
  {
   "cell_type": "code",
   "execution_count": 41,
   "id": "3e10a6d9-29f8-4ad3-8af3-81489eee7dc3",
   "metadata": {},
   "outputs": [
    {
     "name": "stdout",
     "output_type": "stream",
     "text": [
      "+----------+----------+\n",
      "|Order Date|Year of OD|\n",
      "+----------+----------+\n",
      "|2013-01-03|      2013|\n",
      "|2013-01-04|      2013|\n",
      "|2013-01-04|      2013|\n",
      "|2013-01-04|      2013|\n",
      "|2013-01-05|      2013|\n",
      "|2013-01-06|      2013|\n",
      "|2013-01-06|      2013|\n",
      "|2013-01-06|      2013|\n",
      "|2013-01-06|      2013|\n",
      "|2013-01-06|      2013|\n",
      "|2013-01-06|      2013|\n",
      "|2013-01-06|      2013|\n",
      "|2013-01-06|      2013|\n",
      "|2013-01-06|      2013|\n",
      "|2013-01-07|      2013|\n",
      "|2013-01-07|      2013|\n",
      "|2013-01-09|      2013|\n",
      "|2013-01-09|      2013|\n",
      "|2013-01-10|      2013|\n",
      "|2013-01-10|      2013|\n",
      "+----------+----------+\n",
      "only showing top 20 rows\n",
      "\n"
     ]
    }
   ],
   "source": [
    "df.select('Order Date').withColumn('Year of OD',date_format('Order Date','yyyy')).show()"
   ]
  },
  {
   "cell_type": "code",
   "execution_count": 42,
   "id": "4b97811d-cbd9-4f11-bc11-485f8a856fe3",
   "metadata": {},
   "outputs": [
    {
     "name": "stdout",
     "output_type": "stream",
     "text": [
      "+------+--------------+----------+----------+--------------+-----------+----------------+-----------+-------------+------------+------------+-----------+-------+---------------+---------------+------------+--------------------+-------+--------+--------+--------+-----------+----------+--------------+\n",
      "|Row ID|      Order ID|Order Date| Ship Date|     Ship Mode|Customer ID|   Customer Name|    Segment|      Country|        City|       State|Postal Code| Region|     Product ID|       Category|Sub-Category|        Product Name|  Sales|Quantity|Discount|  Profit|Month of OD|Year of OD|Month no of OD|\n",
      "+------+--------------+----------+----------+--------------+-----------+----------------+-----------+-------------+------------+------------+-----------+-------+---------------+---------------+------------+--------------------+-------+--------+--------+--------+-----------+----------+--------------+\n",
      "| 79814|CA-2011-103800|2013-01-03|2013-01-07|Standard Class|   DP-13000|   Darren Powers|   Consumer|United States|     Houston|       Texas|      77095|Central|OFF-PA-10000174|Office Supplies|       Paper|\"Message Book, Wi...|   null|      16|     2.0|     0.2|        Jan|      2013|            01|\n",
      "|   740|CA-2011-112326|2013-01-04|2013-01-08|Standard Class|   PO-19195|   Phillina Ober|Home Office|United States|  Naperville|    Illinois|      60540|Central|OFF-LA-10003223|Office Supplies|      Labels|           Avery 508| 11.784|       3|     0.2|  4.2717|        Jan|      2013|            01|\n",
      "|   741|CA-2011-112326|2013-01-04|2013-01-08|Standard Class|   PO-19195|   Phillina Ober|Home Office|United States|  Naperville|    Illinois|      60540|Central|OFF-ST-10002743|Office Supplies|     Storage|SAFCO Boltless St...|272.736|       3|     0.2|-64.7748|        Jan|      2013|            01|\n",
      "|   742|CA-2011-112326|2013-01-04|2013-01-08|Standard Class|   PO-19195|   Phillina Ober|Home Office|United States|  Naperville|    Illinois|      60540|Central|OFF-BI-10004094|Office Supplies|     Binders|GBC Standard Plas...|   3.54|       2|     0.8|  -5.487|        Jan|      2013|            01|\n",
      "|  1760|CA-2011-141817|2013-01-05|2013-01-12|Standard Class|   MB-18085|      Mick Brown|   Consumer|United States|Philadelphia|Pennsylvania|      19143|   East|OFF-AR-10003478|Office Supplies|         Art|Avery Hi-Liter Ev...| 19.536|       3|     0.2|   4.884|        Jan|      2013|            01|\n",
      "|  5328|CA-2011-130813|2013-01-06|2013-01-08|  Second Class|   LS-17230|Lycoris Saunders|   Consumer|United States| Los Angeles|  California|      90049|   West|OFF-PA-10002005|Office Supplies|       Paper|           Xerox 225|  19.44|       3|     0.0|  9.3312|        Jan|      2013|            01|\n",
      "|  7181|CA-2011-106054|2013-01-06|2013-01-07|   First Class|   JO-15145|   Jack O'Briant|  Corporate|United States|      Athens|     Georgia|      30605|  South|OFF-AR-10002399|Office Supplies|         Art|Dixon Prang Water...|  12.78|       3|     0.0|  5.2398|        Jan|      2013|            01|\n",
      "|  7475|CA-2011-167199|2013-01-06|2013-01-10|Standard Class|   ME-17320|   Maria Etezadi|Home Office|United States|   Henderson|    Kentucky|      42420|  South|FUR-CH-10004063|      Furniture|      Chairs|Global Deluxe Hig...|2573.82|       9|     0.0|746.4078|        Jan|      2013|            01|\n",
      "|  7476|CA-2011-167199|2013-01-06|2013-01-10|Standard Class|   ME-17320|   Maria Etezadi|Home Office|United States|   Henderson|    Kentucky|      42420|  South|OFF-BI-10004632|Office Supplies|     Binders|Ibico Hi-Tech Man...| 609.98|       2|     0.0| 274.491|        Jan|      2013|            01|\n",
      "|  7477|CA-2011-167199|2013-01-06|2013-01-10|Standard Class|   ME-17320|   Maria Etezadi|Home Office|United States|   Henderson|    Kentucky|      42420|  South|OFF-AR-10001662|Office Supplies|         Art|Rogers Handheld B...|   5.48|       2|     0.0|  1.4796|        Jan|      2013|            01|\n",
      "|  7478|CA-2011-167199|2013-01-06|2013-01-10|Standard Class|   ME-17320|   Maria Etezadi|Home Office|United States|   Henderson|    Kentucky|      42420|  South|TEC-PH-10004977|     Technology|      Phones|         GE 30524EE4| 391.98|       2|     0.0|113.6742|        Jan|      2013|            01|\n",
      "|  7479|CA-2011-167199|2013-01-06|2013-01-10|Standard Class|   ME-17320|   Maria Etezadi|Home Office|United States|   Henderson|    Kentucky|      42420|  South|TEC-PH-10004539|     Technology|      Phones|Wireless Extender...| 755.96|       4|     0.0|204.1092|        Jan|      2013|            01|\n",
      "|  7480|CA-2011-167199|2013-01-06|2013-01-10|Standard Class|   ME-17320|   Maria Etezadi|Home Office|United States|   Henderson|    Kentucky|      42420|  South|OFF-FA-10001883|Office Supplies|   Fasteners|Alliance Super-Si...|  31.12|       4|     0.0|  0.3112|        Jan|      2013|            01|\n",
      "|  7481|CA-2011-167199|2013-01-06|2013-01-10|Standard Class|   ME-17320|   Maria Etezadi|Home Office|United States|   Henderson|    Kentucky|      42420|  South|OFF-PA-10000955|Office Supplies|       Paper|Southworth 25% Co...|   6.54|       1|     0.0|  3.0084|        Jan|      2013|            01|\n",
      "|  7661|CA-2011-105417|2013-01-07|2013-01-12|Standard Class|   VS-21820|Vivek Sundaresam|   Consumer|United States|  Huntsville|       Texas|      77340|Central|FUR-FU-10004864|      Furniture| Furnishings|\"Howard Miller 14...| 76.728|       3|     0.6|-53.7096|        Jan|      2013|            01|\n",
      "|  7662|CA-2011-105417|2013-01-07|2013-01-12|Standard Class|   VS-21820|Vivek Sundaresam|   Consumer|United States|  Huntsville|       Texas|      77340|Central|OFF-BI-10003708|Office Supplies|     Binders|Acco Four Pocket ...|  10.43|       7|     0.8|-18.2525|        Jan|      2013|            01|\n",
      "|   593|CA-2011-135405|2013-01-09|2013-01-13|Standard Class|   MS-17830|   Melanie Seite|   Consumer|United States|      Laredo|       Texas|      78041|Central|OFF-AR-10004078|Office Supplies|         Art|          Newell 312|  9.344|       2|     0.2|   1.168|        Jan|      2013|            01|\n",
      "|   594|CA-2011-135405|2013-01-09|2013-01-13|Standard Class|   MS-17830|   Melanie Seite|   Consumer|United States|      Laredo|       Texas|      78041|Central|TEC-AC-10001266|     Technology| Accessories|Memorex Micro Tra...|   31.2|       3|     0.2|    9.75|        Jan|      2013|            01|\n",
      "|   866|CA-2011-149020|2013-01-10|2013-01-15|Standard Class|   AJ-10780|  Anthony Jacobs|  Corporate|United States| Springfield|    Virginia|      22153|  South|OFF-LA-10004272|Office Supplies|      Labels|           Avery 482|   2.89|       1|     0.0|  1.3583|        Jan|      2013|            01|\n",
      "|   867|CA-2011-149020|2013-01-10|2013-01-15|Standard Class|   AJ-10780|  Anthony Jacobs|  Corporate|United States| Springfield|    Virginia|      22153|  South|FUR-FU-10000965|      Furniture| Furnishings|\"Howard Miller 11...|  51.94|       1|     0.0| 21.2954|        Jan|      2013|            01|\n",
      "+------+--------------+----------+----------+--------------+-----------+----------------+-----------+-------------+------------+------------+-----------+-------+---------------+---------------+------------+--------------------+-------+--------+--------+--------+-----------+----------+--------------+\n",
      "only showing top 20 rows\n",
      "\n"
     ]
    }
   ],
   "source": [
    "df = df.withColumn('Month of OD',date_format('Order Date','MMM'))\n",
    "df = df.withColumn('Year of OD',date_format('Order Date','yyyy'))\n",
    "df = df.withColumn('Month no of OD',date_format('Order Date','MM'))\n",
    "df.show()"
   ]
  },
  {
   "cell_type": "code",
   "execution_count": 43,
   "id": "c90be7da-26cb-491a-b5e2-1d0b6109a1fc",
   "metadata": {},
   "outputs": [],
   "source": [
    "# df = df.drop('Month no of OD')"
   ]
  },
  {
   "cell_type": "code",
   "execution_count": 44,
   "id": "e6545572-80f4-4c5f-848d-b1c4b5a2737c",
   "metadata": {},
   "outputs": [
    {
     "name": "stdout",
     "output_type": "stream",
     "text": [
      "+------+--------------+----------+----------+--------------+-----------+----------------+-----------+-------------+------------+------------+-----------+-------+---------------+---------------+------------+--------------------+-------+--------+--------+--------+-----------+----------+--------------+\n",
      "|Row ID|      Order ID|Order Date| Ship Date|     Ship Mode|Customer ID|   Customer Name|    Segment|      Country|        City|       State|Postal Code| Region|     Product ID|       Category|Sub-Category|        Product Name|  Sales|Quantity|Discount|  Profit|Month of OD|Year of OD|Month no of OD|\n",
      "+------+--------------+----------+----------+--------------+-----------+----------------+-----------+-------------+------------+------------+-----------+-------+---------------+---------------+------------+--------------------+-------+--------+--------+--------+-----------+----------+--------------+\n",
      "| 79814|CA-2011-103800|2013-01-03|2013-01-07|Standard Class|   DP-13000|   Darren Powers|   Consumer|United States|     Houston|       Texas|      77095|Central|OFF-PA-10000174|Office Supplies|       Paper|\"Message Book, Wi...|   null|      16|     2.0|     0.2|        Jan|      2013|            01|\n",
      "|   740|CA-2011-112326|2013-01-04|2013-01-08|Standard Class|   PO-19195|   Phillina Ober|Home Office|United States|  Naperville|    Illinois|      60540|Central|OFF-LA-10003223|Office Supplies|      Labels|           Avery 508| 11.784|       3|     0.2|  4.2717|        Jan|      2013|            01|\n",
      "|   741|CA-2011-112326|2013-01-04|2013-01-08|Standard Class|   PO-19195|   Phillina Ober|Home Office|United States|  Naperville|    Illinois|      60540|Central|OFF-ST-10002743|Office Supplies|     Storage|SAFCO Boltless St...|272.736|       3|     0.2|-64.7748|        Jan|      2013|            01|\n",
      "|   742|CA-2011-112326|2013-01-04|2013-01-08|Standard Class|   PO-19195|   Phillina Ober|Home Office|United States|  Naperville|    Illinois|      60540|Central|OFF-BI-10004094|Office Supplies|     Binders|GBC Standard Plas...|   3.54|       2|     0.8|  -5.487|        Jan|      2013|            01|\n",
      "|  1760|CA-2011-141817|2013-01-05|2013-01-12|Standard Class|   MB-18085|      Mick Brown|   Consumer|United States|Philadelphia|Pennsylvania|      19143|   East|OFF-AR-10003478|Office Supplies|         Art|Avery Hi-Liter Ev...| 19.536|       3|     0.2|   4.884|        Jan|      2013|            01|\n",
      "|  5328|CA-2011-130813|2013-01-06|2013-01-08|  Second Class|   LS-17230|Lycoris Saunders|   Consumer|United States| Los Angeles|  California|      90049|   West|OFF-PA-10002005|Office Supplies|       Paper|           Xerox 225|  19.44|       3|     0.0|  9.3312|        Jan|      2013|            01|\n",
      "|  7181|CA-2011-106054|2013-01-06|2013-01-07|   First Class|   JO-15145|   Jack O'Briant|  Corporate|United States|      Athens|     Georgia|      30605|  South|OFF-AR-10002399|Office Supplies|         Art|Dixon Prang Water...|  12.78|       3|     0.0|  5.2398|        Jan|      2013|            01|\n",
      "|  7475|CA-2011-167199|2013-01-06|2013-01-10|Standard Class|   ME-17320|   Maria Etezadi|Home Office|United States|   Henderson|    Kentucky|      42420|  South|FUR-CH-10004063|      Furniture|      Chairs|Global Deluxe Hig...|2573.82|       9|     0.0|746.4078|        Jan|      2013|            01|\n",
      "|  7476|CA-2011-167199|2013-01-06|2013-01-10|Standard Class|   ME-17320|   Maria Etezadi|Home Office|United States|   Henderson|    Kentucky|      42420|  South|OFF-BI-10004632|Office Supplies|     Binders|Ibico Hi-Tech Man...| 609.98|       2|     0.0| 274.491|        Jan|      2013|            01|\n",
      "|  7477|CA-2011-167199|2013-01-06|2013-01-10|Standard Class|   ME-17320|   Maria Etezadi|Home Office|United States|   Henderson|    Kentucky|      42420|  South|OFF-AR-10001662|Office Supplies|         Art|Rogers Handheld B...|   5.48|       2|     0.0|  1.4796|        Jan|      2013|            01|\n",
      "|  7478|CA-2011-167199|2013-01-06|2013-01-10|Standard Class|   ME-17320|   Maria Etezadi|Home Office|United States|   Henderson|    Kentucky|      42420|  South|TEC-PH-10004977|     Technology|      Phones|         GE 30524EE4| 391.98|       2|     0.0|113.6742|        Jan|      2013|            01|\n",
      "|  7479|CA-2011-167199|2013-01-06|2013-01-10|Standard Class|   ME-17320|   Maria Etezadi|Home Office|United States|   Henderson|    Kentucky|      42420|  South|TEC-PH-10004539|     Technology|      Phones|Wireless Extender...| 755.96|       4|     0.0|204.1092|        Jan|      2013|            01|\n",
      "|  7480|CA-2011-167199|2013-01-06|2013-01-10|Standard Class|   ME-17320|   Maria Etezadi|Home Office|United States|   Henderson|    Kentucky|      42420|  South|OFF-FA-10001883|Office Supplies|   Fasteners|Alliance Super-Si...|  31.12|       4|     0.0|  0.3112|        Jan|      2013|            01|\n",
      "|  7481|CA-2011-167199|2013-01-06|2013-01-10|Standard Class|   ME-17320|   Maria Etezadi|Home Office|United States|   Henderson|    Kentucky|      42420|  South|OFF-PA-10000955|Office Supplies|       Paper|Southworth 25% Co...|   6.54|       1|     0.0|  3.0084|        Jan|      2013|            01|\n",
      "|  7661|CA-2011-105417|2013-01-07|2013-01-12|Standard Class|   VS-21820|Vivek Sundaresam|   Consumer|United States|  Huntsville|       Texas|      77340|Central|FUR-FU-10004864|      Furniture| Furnishings|\"Howard Miller 14...| 76.728|       3|     0.6|-53.7096|        Jan|      2013|            01|\n",
      "|  7662|CA-2011-105417|2013-01-07|2013-01-12|Standard Class|   VS-21820|Vivek Sundaresam|   Consumer|United States|  Huntsville|       Texas|      77340|Central|OFF-BI-10003708|Office Supplies|     Binders|Acco Four Pocket ...|  10.43|       7|     0.8|-18.2525|        Jan|      2013|            01|\n",
      "|   593|CA-2011-135405|2013-01-09|2013-01-13|Standard Class|   MS-17830|   Melanie Seite|   Consumer|United States|      Laredo|       Texas|      78041|Central|OFF-AR-10004078|Office Supplies|         Art|          Newell 312|  9.344|       2|     0.2|   1.168|        Jan|      2013|            01|\n",
      "|   594|CA-2011-135405|2013-01-09|2013-01-13|Standard Class|   MS-17830|   Melanie Seite|   Consumer|United States|      Laredo|       Texas|      78041|Central|TEC-AC-10001266|     Technology| Accessories|Memorex Micro Tra...|   31.2|       3|     0.2|    9.75|        Jan|      2013|            01|\n",
      "|   866|CA-2011-149020|2013-01-10|2013-01-15|Standard Class|   AJ-10780|  Anthony Jacobs|  Corporate|United States| Springfield|    Virginia|      22153|  South|OFF-LA-10004272|Office Supplies|      Labels|           Avery 482|   2.89|       1|     0.0|  1.3583|        Jan|      2013|            01|\n",
      "|   867|CA-2011-149020|2013-01-10|2013-01-15|Standard Class|   AJ-10780|  Anthony Jacobs|  Corporate|United States| Springfield|    Virginia|      22153|  South|FUR-FU-10000965|      Furniture| Furnishings|\"Howard Miller 11...|  51.94|       1|     0.0| 21.2954|        Jan|      2013|            01|\n",
      "+------+--------------+----------+----------+--------------+-----------+----------------+-----------+-------------+------------+------------+-----------+-------+---------------+---------------+------------+--------------------+-------+--------+--------+--------+-----------+----------+--------------+\n",
      "only showing top 20 rows\n",
      "\n"
     ]
    }
   ],
   "source": [
    "df.show()"
   ]
  },
  {
   "cell_type": "code",
   "execution_count": 45,
   "id": "b6c8ccc4-a073-44ba-8b12-94b0d7a7ba51",
   "metadata": {},
   "outputs": [
    {
     "name": "stdout",
     "output_type": "stream",
     "text": [
      "+-----------+------+------+------+------+\n",
      "|Month of OD|  2013|  2014|  2015|  2016|\n",
      "+-----------+------+------+------+------+\n",
      "|        Apr|213.18| 207.9|239.79|181.01|\n",
      "|        Aug|184.02|233.21|189.51|295.49|\n",
      "|        Dec|254.14|239.48|284.01|184.61|\n",
      "|        Feb| 95.81|192.33|282.44|194.83|\n",
      "|        Jan|191.37|317.28|209.46|282.23|\n",
      "|        Jul|244.53|209.74|197.35|205.03|\n",
      "|        Jun|259.47|184.03|199.56|223.26|\n",
      "|        Mar|360.56|288.22| 320.4|253.19|\n",
      "|        May|195.33|209.47| 260.0|187.64|\n",
      "|        Nov|251.76|238.66|223.27|263.19|\n",
      "|        Oct|203.86|191.35|303.28|269.24|\n",
      "|        Sep|311.06|226.71|206.21|195.23|\n",
      "+-----------+------+------+------+------+\n",
      "\n"
     ]
    }
   ],
   "source": [
    "df.groupby('Month of OD').pivot('Year of OD').agg(round(avg('Sales'),2)).sort('Month of OD').show()"
   ]
  },
  {
   "cell_type": "code",
   "execution_count": 46,
   "id": "eb8c24e3-5ffe-4e86-81e4-de2c3d5a6f15",
   "metadata": {},
   "outputs": [
    {
     "name": "stdout",
     "output_type": "stream",
     "text": [
      "+----------+------+------+------+------+------+------+------+------+------+------+------+------+\n",
      "|Year of OD|   Apr|   Aug|   Dec|   Feb|   Jan|   Jul|   Jun|   Mar|   May|   Nov|   Oct|   Sep|\n",
      "+----------+------+------+------+------+------+------+------+------+------+------+------+------+\n",
      "|      2013|213.18|184.02|254.14| 95.81|191.37|244.53|259.47|360.56|195.33|251.76|203.86|311.06|\n",
      "|      2014| 207.9|233.21|239.48|192.33|317.28|209.74|184.03|288.22|209.47|238.66|191.35|226.71|\n",
      "|      2015|239.79|189.51|284.01|282.44|209.46|197.35|199.56| 320.4| 260.0|223.27|303.28|206.21|\n",
      "|      2016|181.01|295.49|184.61|194.83|282.23|205.03|223.26|253.19|187.64|263.19|269.24|195.23|\n",
      "+----------+------+------+------+------+------+------+------+------+------+------+------+------+\n",
      "\n"
     ]
    }
   ],
   "source": [
    "df.groupby('Year of OD').pivot('Month of OD').agg(round(avg('Sales'),2)).sort('Year of OD').show()"
   ]
  },
  {
   "cell_type": "code",
   "execution_count": 47,
   "id": "35d1fd05-3204-4f82-9150-11c2d70f00a4",
   "metadata": {},
   "outputs": [
    {
     "name": "stdout",
     "output_type": "stream",
     "text": [
      "+-----------+--------------+------+------+------+------+\n",
      "|Month of OD|Month no of OD|  2013|  2014|  2015|  2016|\n",
      "+-----------+--------------+------+------+------+------+\n",
      "|        Jan|            01|191.37|317.28|209.46|282.23|\n",
      "|        Feb|            02| 95.81|192.33|282.44|194.83|\n",
      "|        Mar|            03|360.56|288.22| 320.4|253.19|\n",
      "|        Apr|            04|213.18| 207.9|239.79|181.01|\n",
      "|        May|            05|195.33|209.47| 260.0|187.64|\n",
      "|        Jun|            06|259.47|184.03|199.56|223.26|\n",
      "|        Jul|            07|244.53|209.74|197.35|205.03|\n",
      "|        Aug|            08|184.02|233.21|189.51|295.49|\n",
      "|        Sep|            09|311.06|226.71|206.21|195.23|\n",
      "|        Oct|            10|203.86|191.35|303.28|269.24|\n",
      "|        Nov|            11|251.76|238.66|223.27|263.19|\n",
      "|        Dec|            12|254.14|239.48|284.01|184.61|\n",
      "+-----------+--------------+------+------+------+------+\n",
      "\n"
     ]
    }
   ],
   "source": [
    "df.groupby('Month of OD','Month no of OD').pivot('Year of OD').agg(round(avg('Sales'),2)).sort('Month no of OD').show()"
   ]
  },
  {
   "cell_type": "code",
   "execution_count": 48,
   "id": "cfebe4f9-b31b-4fad-bca2-de26e3a4619b",
   "metadata": {},
   "outputs": [
    {
     "name": "stdout",
     "output_type": "stream",
     "text": [
      "+-----------+--------------+------+------+------+------+\n",
      "|Month of OD|Month no of OD|  2013|  2014|  2015|  2016|\n",
      "+-----------+--------------+------+------+------+------+\n",
      "|        Dec|            12|254.14|239.48|284.01|184.61|\n",
      "|        Nov|            11|251.76|238.66|223.27|263.19|\n",
      "|        Oct|            10|203.86|191.35|303.28|269.24|\n",
      "|        Sep|            09|311.06|226.71|206.21|195.23|\n",
      "|        Aug|            08|184.02|233.21|189.51|295.49|\n",
      "|        Jul|            07|244.53|209.74|197.35|205.03|\n",
      "|        Jun|            06|259.47|184.03|199.56|223.26|\n",
      "|        May|            05|195.33|209.47| 260.0|187.64|\n",
      "|        Apr|            04|213.18| 207.9|239.79|181.01|\n",
      "|        Mar|            03|360.56|288.22| 320.4|253.19|\n",
      "|        Feb|            02| 95.81|192.33|282.44|194.83|\n",
      "|        Jan|            01|191.37|317.28|209.46|282.23|\n",
      "+-----------+--------------+------+------+------+------+\n",
      "\n"
     ]
    }
   ],
   "source": [
    "df.groupby('Month of OD','Month no of OD').pivot('Year of OD').agg(round(avg('Sales'),2)).sort('Month no of OD', ascending=False).show()"
   ]
  },
  {
   "cell_type": "code",
   "execution_count": 49,
   "id": "f50d3ff7-93ff-4e89-9f4f-85e5f6342ceb",
   "metadata": {},
   "outputs": [
    {
     "name": "stdout",
     "output_type": "stream",
     "text": [
      "+------+----------+----------+-----------+------+----------+\n",
      "|emp_no|birth_date|first_name|  last_name|gender| hire_date|\n",
      "+------+----------+----------+-----------+------+----------+\n",
      "| 10001|1953-09-02|    Georgi|    Facello|     M|1986-06-26|\n",
      "| 10002|1964-06-02|   Bezalel|     Simmel|     F|1985-11-21|\n",
      "| 10003|1959-12-03|     Parto|    Bamford|     M|1986-08-28|\n",
      "| 10004|1954-05-01| Chirstian|    Koblick|     M|1986-12-01|\n",
      "| 10005|1955-01-21|   Kyoichi|   Maliniak|     M|1989-09-12|\n",
      "| 10006|1953-04-20|    Anneke|    Preusig|     F|1989-06-02|\n",
      "| 10007|1957-05-23|   Tzvetan|  Zielinski|     F|1989-02-10|\n",
      "| 10008|1958-02-19|    Saniya|   Kalloufi|     M|1994-09-15|\n",
      "| 10009|1952-04-19|    Sumant|       Peac|     F|1985-02-18|\n",
      "| 10010|1963-06-01| Duangkaew|   Piveteau|     F|1989-08-24|\n",
      "| 10011|1953-11-07|      Mary|      Sluis|     F|1990-01-22|\n",
      "| 10012|1960-10-04|  Patricio|  Bridgland|     M|1992-12-18|\n",
      "| 10013|1963-06-07| Eberhardt|     Terkki|     M|1985-10-20|\n",
      "| 10014|1956-02-12|     Berni|      Genin|     M|1987-03-11|\n",
      "| 10015|1959-08-19|  Guoxiang|  Nooteboom|     M|1987-07-02|\n",
      "| 10016|1961-05-02|  Kazuhito|Cappelletti|     M|1995-01-27|\n",
      "| 10017|1958-07-06| Cristinel|  Bouloucos|     F|1993-08-03|\n",
      "| 10018|1954-06-19|  Kazuhide|       Peha|     F|1987-04-03|\n",
      "| 10019|1953-01-23|   Lillian|    Haddadi|     M|1999-04-30|\n",
      "| 10020|1952-12-24|    Mayuko|    Warwick|     M|1991-01-26|\n",
      "+------+----------+----------+-----------+------+----------+\n",
      "only showing top 20 rows\n",
      "\n"
     ]
    }
   ],
   "source": [
    "employees = spark.read.csv(r'C:\\Users\\Prashant230359\\OneDrive - EXLService.com (I) Pvt. Ltd\\Documents\\My Data\\MySQL\\MySQL\\CSV Files\\employees.csv', header=True, inferSchema=True)\n",
    "employees.show()"
   ]
  },
  {
   "cell_type": "code",
   "execution_count": 50,
   "id": "a0a29f1b-10ce-4f38-afce-68088f7df7ea",
   "metadata": {},
   "outputs": [
    {
     "name": "stdout",
     "output_type": "stream",
     "text": [
      "+------+------+----------+----------+\n",
      "|emp_no|salary| from_date|   to_date|\n",
      "+------+------+----------+----------+\n",
      "| 10001| 60117|1986-06-26|1987-06-26|\n",
      "| 10001| 62102|1987-06-26|1988-06-25|\n",
      "| 10001| 66074|1988-06-25|1989-06-25|\n",
      "| 10001| 66596|1989-06-25|1990-06-25|\n",
      "| 10001| 66961|1990-06-25|1991-06-25|\n",
      "| 10001| 71046|1991-06-25|1992-06-24|\n",
      "| 10001| 74333|1992-06-24|1993-06-24|\n",
      "| 10001| 75286|1993-06-24|1994-06-24|\n",
      "| 10001| 75994|1994-06-24|1995-06-24|\n",
      "| 10001| 76884|1995-06-24|1996-06-23|\n",
      "| 10001| 80013|1996-06-23|1997-06-23|\n",
      "| 10001| 81025|1997-06-23|1998-06-23|\n",
      "| 10001| 81097|1998-06-23|1999-06-23|\n",
      "| 10001| 84917|1999-06-23|2000-06-22|\n",
      "| 10001| 85112|2000-06-22|2001-06-22|\n",
      "| 10001| 85097|2001-06-22|2002-06-22|\n",
      "| 10001| 88958|2002-06-22|9999-01-01|\n",
      "| 10002| 65828|1996-08-03|1997-08-03|\n",
      "| 10002| 65909|1997-08-03|1998-08-03|\n",
      "| 10002| 67534|1998-08-03|1999-08-03|\n",
      "+------+------+----------+----------+\n",
      "only showing top 20 rows\n",
      "\n"
     ]
    }
   ],
   "source": [
    "salaries = spark.read.csv(r'C:\\Users\\Prashant230359\\OneDrive - EXLService.com (I) Pvt. Ltd\\Documents\\My Data\\MySQL\\MySQL\\CSV Files\\salaries.csv', header=True, inferSchema=True)\n",
    "salaries.show()"
   ]
  },
  {
   "cell_type": "code",
   "execution_count": 51,
   "id": "7d4c9161-f793-4770-bd7d-046f2aa99613",
   "metadata": {},
   "outputs": [
    {
     "name": "stdout",
     "output_type": "stream",
     "text": [
      "+-------+------------------+\n",
      "|dept_no|         dept_name|\n",
      "+-------+------------------+\n",
      "|   d009|  Customer Service|\n",
      "|   d005|       Development|\n",
      "|   d002|           Finance|\n",
      "|   d003|   Human Resources|\n",
      "|   d001|         Marketing|\n",
      "|   d004|        Production|\n",
      "|   d006|Quality Management|\n",
      "|   d008|          Research|\n",
      "|   d007|             Sales|\n",
      "+-------+------------------+\n",
      "\n"
     ]
    }
   ],
   "source": [
    "departments = spark.read.csv(r'C:\\Users\\Prashant230359\\OneDrive - EXLService.com (I) Pvt. Ltd\\Documents\\My Data\\MySQL\\MySQL\\CSV Files\\departments.csv', header=True, inferSchema=True)\n",
    "departments.show()"
   ]
  },
  {
   "cell_type": "code",
   "execution_count": 52,
   "id": "bb67b9e0-b890-4092-89d2-a3f5dd86d036",
   "metadata": {},
   "outputs": [
    {
     "name": "stdout",
     "output_type": "stream",
     "text": [
      "+------+-------+----------+----------+\n",
      "|emp_no|dept_no| from_date|   to_date|\n",
      "+------+-------+----------+----------+\n",
      "| 10001|   d005|1986-06-26|9999-01-01|\n",
      "| 10002|   d007|1996-08-03|9999-01-01|\n",
      "| 10003|   d004|1995-12-03|9999-01-01|\n",
      "| 10004|   d004|1986-12-01|9999-01-01|\n",
      "| 10005|   d003|1989-09-12|9999-01-01|\n",
      "| 10006|   d005|1990-08-05|9999-01-01|\n",
      "| 10007|   d008|1989-02-10|9999-01-01|\n",
      "| 10008|   d005|1998-03-11|2000-07-31|\n",
      "| 10009|   d006|1985-02-18|9999-01-01|\n",
      "| 10010|   d004|1996-11-24|2000-06-26|\n",
      "| 10010|   d006|2000-06-26|9999-01-01|\n",
      "| 10011|   d009|1990-01-22|1996-11-09|\n",
      "| 10012|   d005|1992-12-18|9999-01-01|\n",
      "| 10013|   d003|1985-10-20|9999-01-01|\n",
      "| 10014|   d005|1993-12-29|9999-01-01|\n",
      "| 10015|   d008|1992-09-19|1993-08-22|\n",
      "| 10016|   d007|1998-02-11|9999-01-01|\n",
      "| 10017|   d001|1993-08-03|9999-01-01|\n",
      "| 10018|   d004|1992-07-29|9999-01-01|\n",
      "| 10018|   d005|1987-04-03|1992-07-29|\n",
      "+------+-------+----------+----------+\n",
      "only showing top 20 rows\n",
      "\n"
     ]
    }
   ],
   "source": [
    "dept_emp = spark.read.csv(r'C:\\Users\\Prashant230359\\OneDrive - EXLService.com (I) Pvt. Ltd\\Documents\\My Data\\MySQL\\MySQL\\CSV Files\\dept_emp.csv', header=True, inferSchema=True)\n",
    "dept_emp.show()"
   ]
  },
  {
   "cell_type": "code",
   "execution_count": 53,
   "id": "2418398b-f2d6-4377-9665-95846db06cda",
   "metadata": {},
   "outputs": [
    {
     "name": "stdout",
     "output_type": "stream",
     "text": [
      "+------+-------+----------+----------+\n",
      "|emp_no|dept_no| from_date|   to_date|\n",
      "+------+-------+----------+----------+\n",
      "|110022|   d001|1985-01-01|1991-10-01|\n",
      "|110039|   d001|1991-10-01|9999-01-01|\n",
      "|110085|   d002|1985-01-01|1989-12-17|\n",
      "|110114|   d002|1989-12-17|9999-01-01|\n",
      "|110183|   d003|1985-01-01|1992-03-21|\n",
      "|110228|   d003|1992-03-21|9999-01-01|\n",
      "|110303|   d004|1985-01-01|1988-09-09|\n",
      "|110344|   d004|1988-09-09|1992-08-02|\n",
      "|110386|   d004|1992-08-02|1996-08-30|\n",
      "|110420|   d004|1996-08-30|9999-01-01|\n",
      "|110511|   d005|1985-01-01|1992-04-25|\n",
      "|110567|   d005|1992-04-25|9999-01-01|\n",
      "|110725|   d006|1985-01-01|1989-05-06|\n",
      "|110765|   d006|1989-05-06|1991-09-12|\n",
      "|110800|   d006|1991-09-12|1994-06-28|\n",
      "|110854|   d006|1994-06-28|9999-01-01|\n",
      "|111035|   d007|1985-01-01|1991-03-07|\n",
      "|111133|   d007|1991-03-07|9999-01-01|\n",
      "|111400|   d008|1985-01-01|1991-04-08|\n",
      "|111534|   d008|1991-04-08|9999-01-01|\n",
      "+------+-------+----------+----------+\n",
      "only showing top 20 rows\n",
      "\n"
     ]
    }
   ],
   "source": [
    "dept_manager = spark.read.csv(r'C:\\Users\\Prashant230359\\OneDrive - EXLService.com (I) Pvt. Ltd\\Documents\\My Data\\MySQL\\MySQL\\CSV Files\\dept_manager.csv', header=True, inferSchema=True)\n",
    "dept_manager.show()"
   ]
  },
  {
   "cell_type": "code",
   "execution_count": 54,
   "id": "2ff2f899-3659-44f6-944f-248638214d2a",
   "metadata": {},
   "outputs": [
    {
     "name": "stdout",
     "output_type": "stream",
     "text": [
      "+------+------------------+----------+----------+\n",
      "|emp_no|             title| from_date|   to_date|\n",
      "+------+------------------+----------+----------+\n",
      "| 10001|   Senior Engineer|1986-06-26|9999-01-01|\n",
      "| 10002|             Staff|1996-08-03|9999-01-01|\n",
      "| 10003|   Senior Engineer|1995-12-03|9999-01-01|\n",
      "| 10004|          Engineer|1986-12-01|1995-12-01|\n",
      "| 10004|   Senior Engineer|1995-12-01|9999-01-01|\n",
      "| 10005|      Senior Staff|1996-09-12|9999-01-01|\n",
      "| 10005|             Staff|1989-09-12|1996-09-12|\n",
      "| 10006|   Senior Engineer|1990-08-05|9999-01-01|\n",
      "| 10007|      Senior Staff|1996-02-11|9999-01-01|\n",
      "| 10007|             Staff|1989-02-10|1996-02-11|\n",
      "| 10008|Assistant Engineer|1998-03-11|2000-07-31|\n",
      "| 10009|Assistant Engineer|1985-02-18|1990-02-18|\n",
      "| 10009|          Engineer|1990-02-18|1995-02-18|\n",
      "| 10009|   Senior Engineer|1995-02-18|9999-01-01|\n",
      "| 10010|          Engineer|1996-11-24|9999-01-01|\n",
      "| 10011|             Staff|1990-01-22|1996-11-09|\n",
      "| 10012|          Engineer|1992-12-18|2000-12-18|\n",
      "| 10012|   Senior Engineer|2000-12-18|9999-01-01|\n",
      "| 10013|      Senior Staff|1985-10-20|9999-01-01|\n",
      "| 10014|          Engineer|1993-12-29|9999-01-01|\n",
      "+------+------------------+----------+----------+\n",
      "only showing top 20 rows\n",
      "\n"
     ]
    }
   ],
   "source": [
    "titles = spark.read.csv(r'C:\\Users\\Prashant230359\\OneDrive - EXLService.com (I) Pvt. Ltd\\Documents\\My Data\\MySQL\\MySQL\\CSV Files\\titles.csv', header=True, inferSchema=True)\n",
    "titles.show()"
   ]
  },
  {
   "cell_type": "code",
   "execution_count": 55,
   "id": "9ce5c936-b36d-4618-8692-b9ba13c9bc61",
   "metadata": {},
   "outputs": [
    {
     "name": "stdout",
     "output_type": "stream",
     "text": [
      "root\n",
      " |-- emp_no: integer (nullable = true)\n",
      " |-- birth_date: date (nullable = true)\n",
      " |-- first_name: string (nullable = true)\n",
      " |-- last_name: string (nullable = true)\n",
      " |-- gender: string (nullable = true)\n",
      " |-- hire_date: date (nullable = true)\n",
      "\n"
     ]
    }
   ],
   "source": [
    "employees.printSchema()"
   ]
  },
  {
   "cell_type": "code",
   "execution_count": 56,
   "id": "ee45a745-0a70-44ae-976a-1c6cc3589cd7",
   "metadata": {},
   "outputs": [
    {
     "name": "stdout",
     "output_type": "stream",
     "text": [
      "root\n",
      " |-- emp_no: integer (nullable = true)\n",
      " |-- salary: integer (nullable = true)\n",
      " |-- from_date: date (nullable = true)\n",
      " |-- to_date: date (nullable = true)\n",
      "\n"
     ]
    }
   ],
   "source": [
    "salaries.printSchema()"
   ]
  },
  {
   "cell_type": "code",
   "execution_count": 57,
   "id": "22544fe7-59e9-4657-8bfd-ef7941030890",
   "metadata": {},
   "outputs": [
    {
     "name": "stdout",
     "output_type": "stream",
     "text": [
      "root\n",
      " |-- dept_no: string (nullable = true)\n",
      " |-- dept_name: string (nullable = true)\n",
      "\n"
     ]
    }
   ],
   "source": [
    "departments.printSchema()"
   ]
  },
  {
   "cell_type": "code",
   "execution_count": 58,
   "id": "21c259cf-6503-4de3-99a7-e9af18ae6b28",
   "metadata": {},
   "outputs": [
    {
     "name": "stdout",
     "output_type": "stream",
     "text": [
      "root\n",
      " |-- emp_no: integer (nullable = true)\n",
      " |-- dept_no: string (nullable = true)\n",
      " |-- from_date: date (nullable = true)\n",
      " |-- to_date: date (nullable = true)\n",
      "\n"
     ]
    }
   ],
   "source": [
    "dept_emp.printSchema()"
   ]
  },
  {
   "cell_type": "code",
   "execution_count": 59,
   "id": "f81ac56c-1a3b-4062-825e-0d9447ef7f59",
   "metadata": {},
   "outputs": [
    {
     "name": "stdout",
     "output_type": "stream",
     "text": [
      "root\n",
      " |-- emp_no: integer (nullable = true)\n",
      " |-- dept_no: string (nullable = true)\n",
      " |-- from_date: date (nullable = true)\n",
      " |-- to_date: date (nullable = true)\n",
      "\n"
     ]
    }
   ],
   "source": [
    "dept_manager.printSchema()"
   ]
  },
  {
   "cell_type": "code",
   "execution_count": 60,
   "id": "424e17ad-296f-4d66-b72e-630232fe3ff4",
   "metadata": {},
   "outputs": [
    {
     "name": "stdout",
     "output_type": "stream",
     "text": [
      "root\n",
      " |-- emp_no: integer (nullable = true)\n",
      " |-- title: string (nullable = true)\n",
      " |-- from_date: date (nullable = true)\n",
      " |-- to_date: date (nullable = true)\n",
      "\n"
     ]
    }
   ],
   "source": [
    "titles.printSchema()"
   ]
  },
  {
   "cell_type": "code",
   "execution_count": 61,
   "id": "b2e5d313-403b-4ad5-9720-dfb54ad05879",
   "metadata": {},
   "outputs": [
    {
     "name": "stdout",
     "output_type": "stream",
     "text": [
      "+------+----------+----------+---------+------+----------+------+------+----------+----------+\n",
      "|emp_no|birth_date|first_name|last_name|gender| hire_date|emp_no|salary| from_date|   to_date|\n",
      "+------+----------+----------+---------+------+----------+------+------+----------+----------+\n",
      "| 10011|1953-11-07|      Mary|    Sluis|     F|1990-01-22| 10011| 42365|1990-01-22|1991-01-22|\n",
      "| 10011|1953-11-07|      Mary|    Sluis|     F|1990-01-22| 10011| 44200|1991-01-22|1992-01-22|\n",
      "| 10011|1953-11-07|      Mary|    Sluis|     F|1990-01-22| 10011| 48214|1992-01-22|1993-01-21|\n",
      "| 10011|1953-11-07|      Mary|    Sluis|     F|1990-01-22| 10011| 50927|1993-01-21|1994-01-21|\n",
      "| 10011|1953-11-07|      Mary|    Sluis|     F|1990-01-22| 10011| 51470|1994-01-21|1995-01-21|\n",
      "| 10011|1953-11-07|      Mary|    Sluis|     F|1990-01-22| 10011| 54545|1995-01-21|1996-01-21|\n",
      "| 10011|1953-11-07|      Mary|    Sluis|     F|1990-01-22| 10011| 56753|1996-01-21|1996-11-09|\n",
      "| 10013|1963-06-07| Eberhardt|   Terkki|     M|1985-10-20| 10013| 40000|1985-10-20|1986-10-20|\n",
      "| 10013|1963-06-07| Eberhardt|   Terkki|     M|1985-10-20| 10013| 40623|1986-10-20|1987-10-20|\n",
      "| 10013|1963-06-07| Eberhardt|   Terkki|     M|1985-10-20| 10013| 40561|1987-10-20|1988-10-19|\n",
      "| 10013|1963-06-07| Eberhardt|   Terkki|     M|1985-10-20| 10013| 40306|1988-10-19|1989-10-19|\n",
      "| 10013|1963-06-07| Eberhardt|   Terkki|     M|1985-10-20| 10013| 43569|1989-10-19|1990-10-19|\n",
      "| 10013|1963-06-07| Eberhardt|   Terkki|     M|1985-10-20| 10013| 46305|1990-10-19|1991-10-19|\n",
      "| 10013|1963-06-07| Eberhardt|   Terkki|     M|1985-10-20| 10013| 47118|1991-10-19|1992-10-18|\n",
      "| 10013|1963-06-07| Eberhardt|   Terkki|     M|1985-10-20| 10013| 50351|1992-10-18|1993-10-18|\n",
      "| 10013|1963-06-07| Eberhardt|   Terkki|     M|1985-10-20| 10013| 49887|1993-10-18|1994-10-18|\n",
      "| 10013|1963-06-07| Eberhardt|   Terkki|     M|1985-10-20| 10013| 53957|1994-10-18|1995-10-18|\n",
      "| 10013|1963-06-07| Eberhardt|   Terkki|     M|1985-10-20| 10013| 57590|1995-10-18|1996-10-17|\n",
      "| 10013|1963-06-07| Eberhardt|   Terkki|     M|1985-10-20| 10013| 59228|1996-10-17|1997-10-17|\n",
      "| 10013|1963-06-07| Eberhardt|   Terkki|     M|1985-10-20| 10013| 59571|1997-10-17|1998-10-17|\n",
      "+------+----------+----------+---------+------+----------+------+------+----------+----------+\n",
      "only showing top 20 rows\n",
      "\n"
     ]
    }
   ],
   "source": [
    "employees.join(salaries, employees.emp_no==salaries.emp_no, 'left').show()"
   ]
  },
  {
   "cell_type": "code",
   "execution_count": 62,
   "id": "e9b1a4f2-6449-47df-b1ac-63f562c24c9c",
   "metadata": {},
   "outputs": [
    {
     "name": "stdout",
     "output_type": "stream",
     "text": [
      "+------+----------+\n",
      "|emp_no|avg_salary|\n",
      "+------+----------+\n",
      "| 10011|   49782.0|\n",
      "| 10013|  52431.59|\n",
      "| 10015|   40000.0|\n",
      "| 10018|  68640.06|\n",
      "| 10020|   43278.2|\n",
      "| 10022|  40427.67|\n",
      "| 10032|  56633.62|\n",
      "| 10043|  64416.92|\n",
      "| 10058|   63302.8|\n",
      "| 10075|  52225.62|\n",
      "| 10081|  67264.63|\n",
      "| 10090|  59203.71|\n",
      "| 10096|   64945.0|\n",
      "| 10121|  55972.36|\n",
      "| 10128|   49521.2|\n",
      "| 10143|  54412.64|\n",
      "| 10162|   44129.0|\n",
      "| 10168|  65014.94|\n",
      "| 10177|   50030.0|\n",
      "| 10180|  60608.11|\n",
      "+------+----------+\n",
      "only showing top 20 rows\n",
      "\n"
     ]
    }
   ],
   "source": [
    "e_sal = employees.alias('e').join(salaries.alias('s'), employees.emp_no==salaries.emp_no, 'left')\\\n",
    ".groupBy('e.emp_no')\\\n",
    ".agg(round(avg('s.salary'),2).alias('avg_salary'))\n",
    "e_sal.show()"
   ]
  },
  {
   "cell_type": "code",
   "execution_count": 63,
   "id": "ae7899b4-da8e-4430-8179-8d2459e302d1",
   "metadata": {},
   "outputs": [
    {
     "name": "stdout",
     "output_type": "stream",
     "text": [
      "+------+----------+----------+-----------+------+----------+----------+\n",
      "|emp_no|birth_date|first_name|  last_name|gender| hire_date|avg_salary|\n",
      "+------+----------+----------+-----------+------+----------+----------+\n",
      "| 10001|1953-09-02|    Georgi|    Facello|     M|1986-06-26|  75388.94|\n",
      "| 10002|1964-06-02|   Bezalel|     Simmel|     F|1985-11-21|   68854.5|\n",
      "| 10003|1959-12-03|     Parto|    Bamford|     M|1986-08-28|  43030.29|\n",
      "| 10004|1954-05-01| Chirstian|    Koblick|     M|1986-12-01|  56512.25|\n",
      "| 10005|1955-01-21|   Kyoichi|   Maliniak|     M|1989-09-12|  87275.77|\n",
      "| 10006|1953-04-20|    Anneke|    Preusig|     F|1989-06-02|  50514.92|\n",
      "| 10007|1957-05-23|   Tzvetan|  Zielinski|     F|1989-02-10|  70826.71|\n",
      "| 10008|1958-02-19|    Saniya|   Kalloufi|     M|1994-09-15|  49307.67|\n",
      "| 10009|1952-04-19|    Sumant|       Peac|     F|1985-02-18|  78284.56|\n",
      "| 10010|1963-06-01| Duangkaew|   Piveteau|     F|1989-08-24|   76723.0|\n",
      "| 10011|1953-11-07|      Mary|      Sluis|     F|1990-01-22|   49782.0|\n",
      "| 10012|1960-10-04|  Patricio|  Bridgland|     M|1992-12-18|   46902.8|\n",
      "| 10013|1963-06-07| Eberhardt|     Terkki|     M|1985-10-20|  52431.59|\n",
      "| 10014|1956-02-12|     Berni|      Genin|     M|1987-03-11|  52990.33|\n",
      "| 10015|1959-08-19|  Guoxiang|  Nooteboom|     M|1987-07-02|   40000.0|\n",
      "| 10016|1961-05-02|  Kazuhito|Cappelletti|     M|1995-01-27|   74995.4|\n",
      "| 10017|1958-07-06| Cristinel|  Bouloucos|     F|1993-08-03|   87064.7|\n",
      "| 10018|1954-06-19|  Kazuhide|       Peha|     F|1987-04-03|  68640.06|\n",
      "| 10019|1953-01-23|   Lillian|    Haddadi|     M|1999-04-30|  47007.25|\n",
      "| 10020|1952-12-24|    Mayuko|    Warwick|     M|1991-01-26|   43278.2|\n",
      "+------+----------+----------+-----------+------+----------+----------+\n",
      "only showing top 20 rows\n",
      "\n"
     ]
    }
   ],
   "source": [
    "employees.join(e_sal, employees.emp_no==e_sal.emp_no, 'left').select(employees['*'],e_sal['avg_salary']).orderBy(employees.emp_no).show()"
   ]
  },
  {
   "cell_type": "code",
   "execution_count": 64,
   "id": "589ab62e-49f7-40f2-ba49-e687fc1f799f",
   "metadata": {},
   "outputs": [],
   "source": [
    "employees.createOrReplaceTempView('employees')\n",
    "salaries.createOrReplaceTempView('salaries')\n",
    "departments.createOrReplaceTempView('departments')\n",
    "titles.createOrReplaceTempView('titles')\n",
    "dept_manager.createOrReplaceTempView('dept_manager')\n",
    "dept_emp.createOrReplaceTempView('dept_emp')"
   ]
  },
  {
   "cell_type": "code",
   "execution_count": 65,
   "id": "108a18d5-379a-4b9a-8009-2799fccd107f",
   "metadata": {},
   "outputs": [
    {
     "name": "stdout",
     "output_type": "stream",
     "text": [
      "+------+----------+----------+----------------+---------------+\n",
      "|emp_no|birth_date|avg_salary|       dept_name|          title|\n",
      "+------+----------+----------+----------------+---------------+\n",
      "| 10011|1953-11-07|   49782.0|Customer Service|          Staff|\n",
      "| 10013|1963-06-07|  52431.59| Human Resources|   Senior Staff|\n",
      "| 10015|1959-08-19|   40000.0|        Research|   Senior Staff|\n",
      "| 10018|1954-06-19|  68640.06|     Development|       Engineer|\n",
      "| 10018|1954-06-19|  68640.06|     Development|Senior Engineer|\n",
      "| 10018|1954-06-19|  68640.06|      Production|       Engineer|\n",
      "| 10018|1954-06-19|  68640.06|      Production|Senior Engineer|\n",
      "| 10020|1952-12-24|   43278.2|      Production|       Engineer|\n",
      "| 10022|1952-07-08|  40427.67|     Development|       Engineer|\n",
      "| 10032|1960-08-09|  56633.62|      Production|       Engineer|\n",
      "| 10032|1960-08-09|  56633.62|      Production|Senior Engineer|\n",
      "| 10043|1960-09-19|  64416.92|     Development|       Engineer|\n",
      "| 10043|1960-09-19|  64416.92|     Development|Senior Engineer|\n",
      "| 10058|1954-10-01|   63302.8|       Marketing|   Senior Staff|\n",
      "| 10063|1952-08-06|  58313.36|      Production|Senior Engineer|\n",
      "| 10075|1960-03-09|  52225.62|     Development|Senior Engineer|\n",
      "| 10081|1960-12-17|  67264.63|      Production|       Engineer|\n",
      "| 10081|1960-12-17|  67264.63|      Production|Senior Engineer|\n",
      "| 10090|1961-05-30|  59203.71|     Development|Senior Engineer|\n",
      "| 10094|1957-05-25|  70946.73|        Research|   Senior Staff|\n",
      "+------+----------+----------+----------------+---------------+\n",
      "only showing top 20 rows\n",
      "\n"
     ]
    }
   ],
   "source": [
    "# Select employee_no, birth_date, avg_salary, dept_name, title from employees\n",
    "spark.sql(\"\"\"\n",
    "with \n",
    "cte1 as\n",
    "(select emp_no, birth_date from employees),\n",
    "cte2 as\n",
    "(select emp_no, round(avg(salary),2) as avg_salary from salaries group by emp_no),\n",
    "cte3 as\n",
    "(select dm.emp_no, d.dept_name from dept_manager dm join departments d on dm.dept_no=d.dept_no\n",
    "\tunion\n",
    "    select de.emp_no, d.dept_name from dept_emp de join departments d on de.dept_no=d.dept_no),\n",
    "cte4 as\n",
    "(select emp_no, title from titles)\n",
    "select cte1.*, cte2.avg_salary, cte3.dept_name, cte4.title \n",
    "from cte1 join cte2 on cte1.emp_no=cte2.emp_no\n",
    "join cte3 on cte1.emp_no=cte3.emp_no\n",
    "join cte4 on cte1.emp_no=cte4.emp_no;\n",
    "\"\"\").show()"
   ]
  },
  {
   "cell_type": "code",
   "execution_count": 66,
   "id": "5dd8dee9-37d7-4f83-88ba-62f716d1673c",
   "metadata": {},
   "outputs": [
    {
     "data": {
      "text/plain": [
       "166620"
      ]
     },
     "execution_count": 66,
     "metadata": {},
     "output_type": "execute_result"
    }
   ],
   "source": [
    "# Select employee_no, birth_date, avg_salary, dept_name, title from employees\n",
    "spark.sql(\"\"\"\n",
    "with \n",
    "cte1 as\n",
    "(select emp_no, birth_date from employees),\n",
    "cte2 as\n",
    "(select emp_no, round(avg(salary),2) as avg_salary from salaries group by emp_no),\n",
    "cte3 as\n",
    "(select dm.emp_no, d.dept_name from dept_manager dm join departments d on dm.dept_no=d.dept_no\n",
    "\tunion\n",
    "    select de.emp_no, d.dept_name from dept_emp de join departments d on de.dept_no=d.dept_no),\n",
    "cte4 as\n",
    "(select emp_no, title from titles)\n",
    "select cte1.*, cte2.avg_salary, cte3.dept_name, cte4.title \n",
    "from cte1 join cte2 on cte1.emp_no=cte2.emp_no\n",
    "join cte3 on cte1.emp_no=cte3.emp_no\n",
    "join cte4 on cte1.emp_no=cte4.emp_no;\n",
    "\"\"\").count()"
   ]
  },
  {
   "cell_type": "code",
   "execution_count": 67,
   "id": "4d4fc9d4-5abb-4e52-8b9d-3d889d94c342",
   "metadata": {},
   "outputs": [
    {
     "name": "stdout",
     "output_type": "stream",
     "text": [
      "+------+----------+\n",
      "|emp_no|birth_date|\n",
      "+------+----------+\n",
      "| 10001|1953-09-02|\n",
      "| 10002|1964-06-02|\n",
      "| 10003|1959-12-03|\n",
      "| 10004|1954-05-01|\n",
      "| 10005|1955-01-21|\n",
      "| 10006|1953-04-20|\n",
      "| 10007|1957-05-23|\n",
      "| 10008|1958-02-19|\n",
      "| 10009|1952-04-19|\n",
      "| 10010|1963-06-01|\n",
      "| 10011|1953-11-07|\n",
      "| 10012|1960-10-04|\n",
      "| 10013|1963-06-07|\n",
      "| 10014|1956-02-12|\n",
      "| 10015|1959-08-19|\n",
      "| 10016|1961-05-02|\n",
      "| 10017|1958-07-06|\n",
      "| 10018|1954-06-19|\n",
      "| 10019|1953-01-23|\n",
      "| 10020|1952-12-24|\n",
      "+------+----------+\n",
      "only showing top 20 rows\n",
      "\n"
     ]
    }
   ],
   "source": [
    "cte1 = employees.select('emp_no','birth_date')\n",
    "cte1.show()"
   ]
  },
  {
   "cell_type": "code",
   "execution_count": 68,
   "id": "2f83e8c5-7c5c-4dc6-aef4-28f3c17f9cd4",
   "metadata": {},
   "outputs": [
    {
     "name": "stdout",
     "output_type": "stream",
     "text": [
      "+------+----------+\n",
      "|emp_no|avg_salary|\n",
      "+------+----------+\n",
      "| 10206|  55591.73|\n",
      "| 10362|   47990.0|\n",
      "| 10623|  71811.64|\n",
      "| 10817|  65324.67|\n",
      "| 11033|  66597.75|\n",
      "| 11141|   49439.3|\n",
      "| 11317|  47334.71|\n",
      "| 11458|  63011.29|\n",
      "| 11748|  63317.71|\n",
      "| 11858|  43584.33|\n",
      "| 12027|  57875.71|\n",
      "| 12046|  73442.33|\n",
      "| 12799|  52852.67|\n",
      "| 12940|  67110.47|\n",
      "| 13285|   44486.5|\n",
      "| 13289|  75785.13|\n",
      "| 13623|  45617.86|\n",
      "| 13832|  70883.17|\n",
      "| 13840|   40726.5|\n",
      "| 14450|  66555.42|\n",
      "+------+----------+\n",
      "only showing top 20 rows\n",
      "\n"
     ]
    }
   ],
   "source": [
    "cte2 = salaries.groupBy('emp_no').agg(round(avg('salary'),2).alias('avg_salary'))\n",
    "cte2.show()"
   ]
  },
  {
   "cell_type": "code",
   "execution_count": 69,
   "id": "c843687c-aab1-41b1-889e-9a89c3d82c8f",
   "metadata": {},
   "outputs": [
    {
     "name": "stdout",
     "output_type": "stream",
     "text": [
      "+------+-------+----------+----------+-------+------------------+\n",
      "|emp_no|dept_no| from_date|   to_date|dept_no|         dept_name|\n",
      "+------+-------+----------+----------+-------+------------------+\n",
      "| 10001|   d005|1986-06-26|9999-01-01|   d005|       Development|\n",
      "| 10002|   d007|1996-08-03|9999-01-01|   d007|             Sales|\n",
      "| 10003|   d004|1995-12-03|9999-01-01|   d004|        Production|\n",
      "| 10004|   d004|1986-12-01|9999-01-01|   d004|        Production|\n",
      "| 10005|   d003|1989-09-12|9999-01-01|   d003|   Human Resources|\n",
      "| 10006|   d005|1990-08-05|9999-01-01|   d005|       Development|\n",
      "| 10007|   d008|1989-02-10|9999-01-01|   d008|          Research|\n",
      "| 10008|   d005|1998-03-11|2000-07-31|   d005|       Development|\n",
      "| 10009|   d006|1985-02-18|9999-01-01|   d006|Quality Management|\n",
      "| 10010|   d004|1996-11-24|2000-06-26|   d004|        Production|\n",
      "| 10010|   d006|2000-06-26|9999-01-01|   d006|Quality Management|\n",
      "| 10011|   d009|1990-01-22|1996-11-09|   d009|  Customer Service|\n",
      "| 10012|   d005|1992-12-18|9999-01-01|   d005|       Development|\n",
      "| 10013|   d003|1985-10-20|9999-01-01|   d003|   Human Resources|\n",
      "| 10014|   d005|1993-12-29|9999-01-01|   d005|       Development|\n",
      "| 10015|   d008|1992-09-19|1993-08-22|   d008|          Research|\n",
      "| 10016|   d007|1998-02-11|9999-01-01|   d007|             Sales|\n",
      "| 10017|   d001|1993-08-03|9999-01-01|   d001|         Marketing|\n",
      "| 10018|   d004|1992-07-29|9999-01-01|   d004|        Production|\n",
      "| 10018|   d005|1987-04-03|1992-07-29|   d005|       Development|\n",
      "+------+-------+----------+----------+-------+------------------+\n",
      "only showing top 20 rows\n",
      "\n"
     ]
    }
   ],
   "source": [
    "dept1 = dept_emp.join(departments, departments.dept_no==dept_emp.dept_no)\n",
    "dept1.show()"
   ]
  },
  {
   "cell_type": "code",
   "execution_count": 70,
   "id": "10762bec-9ee0-419e-a57e-77a51d62ecc6",
   "metadata": {},
   "outputs": [
    {
     "name": "stdout",
     "output_type": "stream",
     "text": [
      "+------+-------+----------+----------+-------+------------------+\n",
      "|emp_no|dept_no| from_date|   to_date|dept_no|         dept_name|\n",
      "+------+-------+----------+----------+-------+------------------+\n",
      "|110022|   d001|1985-01-01|1991-10-01|   d001|         Marketing|\n",
      "|110039|   d001|1991-10-01|9999-01-01|   d001|         Marketing|\n",
      "|110085|   d002|1985-01-01|1989-12-17|   d002|           Finance|\n",
      "|110114|   d002|1989-12-17|9999-01-01|   d002|           Finance|\n",
      "|110183|   d003|1985-01-01|1992-03-21|   d003|   Human Resources|\n",
      "|110228|   d003|1992-03-21|9999-01-01|   d003|   Human Resources|\n",
      "|110303|   d004|1985-01-01|1988-09-09|   d004|        Production|\n",
      "|110344|   d004|1988-09-09|1992-08-02|   d004|        Production|\n",
      "|110386|   d004|1992-08-02|1996-08-30|   d004|        Production|\n",
      "|110420|   d004|1996-08-30|9999-01-01|   d004|        Production|\n",
      "|110511|   d005|1985-01-01|1992-04-25|   d005|       Development|\n",
      "|110567|   d005|1992-04-25|9999-01-01|   d005|       Development|\n",
      "|110725|   d006|1985-01-01|1989-05-06|   d006|Quality Management|\n",
      "|110765|   d006|1989-05-06|1991-09-12|   d006|Quality Management|\n",
      "|110800|   d006|1991-09-12|1994-06-28|   d006|Quality Management|\n",
      "|110854|   d006|1994-06-28|9999-01-01|   d006|Quality Management|\n",
      "|111035|   d007|1985-01-01|1991-03-07|   d007|             Sales|\n",
      "|111133|   d007|1991-03-07|9999-01-01|   d007|             Sales|\n",
      "|111400|   d008|1985-01-01|1991-04-08|   d008|          Research|\n",
      "|111534|   d008|1991-04-08|9999-01-01|   d008|          Research|\n",
      "+------+-------+----------+----------+-------+------------------+\n",
      "only showing top 20 rows\n",
      "\n"
     ]
    }
   ],
   "source": [
    "dept2 = dept_manager.join(departments, departments.dept_no==dept_manager.dept_no)\n",
    "dept2.show()"
   ]
  },
  {
   "cell_type": "code",
   "execution_count": 71,
   "id": "40c825f4-5b7b-4e78-9cbc-333220d4e308",
   "metadata": {},
   "outputs": [
    {
     "name": "stdout",
     "output_type": "stream",
     "text": [
      "+------+------------------+\n",
      "|emp_no|         dept_name|\n",
      "+------+------------------+\n",
      "| 10001|       Development|\n",
      "| 10002|             Sales|\n",
      "| 10003|        Production|\n",
      "| 10004|        Production|\n",
      "| 10005|   Human Resources|\n",
      "| 10006|       Development|\n",
      "| 10007|          Research|\n",
      "| 10008|       Development|\n",
      "| 10009|Quality Management|\n",
      "| 10010|        Production|\n",
      "| 10010|Quality Management|\n",
      "| 10011|  Customer Service|\n",
      "| 10012|       Development|\n",
      "| 10013|   Human Resources|\n",
      "| 10014|       Development|\n",
      "| 10015|          Research|\n",
      "| 10016|             Sales|\n",
      "| 10017|         Marketing|\n",
      "| 10018|        Production|\n",
      "| 10018|       Development|\n",
      "+------+------------------+\n",
      "only showing top 20 rows\n",
      "\n"
     ]
    }
   ],
   "source": [
    "cte3 = dept1.union(dept2).select('emp_no','dept_name')\n",
    "cte3.show()"
   ]
  },
  {
   "cell_type": "code",
   "execution_count": 72,
   "id": "b3c90f68-18bb-46b1-a20f-a301f20691c7",
   "metadata": {},
   "outputs": [
    {
     "name": "stdout",
     "output_type": "stream",
     "text": [
      "+------+------------------+\n",
      "|emp_no|             title|\n",
      "+------+------------------+\n",
      "| 10001|   Senior Engineer|\n",
      "| 10002|             Staff|\n",
      "| 10003|   Senior Engineer|\n",
      "| 10004|          Engineer|\n",
      "| 10004|   Senior Engineer|\n",
      "| 10005|      Senior Staff|\n",
      "| 10005|             Staff|\n",
      "| 10006|   Senior Engineer|\n",
      "| 10007|      Senior Staff|\n",
      "| 10007|             Staff|\n",
      "| 10008|Assistant Engineer|\n",
      "| 10009|Assistant Engineer|\n",
      "| 10009|          Engineer|\n",
      "| 10009|   Senior Engineer|\n",
      "| 10010|          Engineer|\n",
      "| 10011|             Staff|\n",
      "| 10012|          Engineer|\n",
      "| 10012|   Senior Engineer|\n",
      "| 10013|      Senior Staff|\n",
      "| 10014|          Engineer|\n",
      "+------+------------------+\n",
      "only showing top 20 rows\n",
      "\n"
     ]
    }
   ],
   "source": [
    "cte4 = titles.select('emp_no','title')\n",
    "cte4.show()"
   ]
  },
  {
   "cell_type": "code",
   "execution_count": 73,
   "id": "6dad7b2d-235a-4b21-b8a9-3704fe74ea1d",
   "metadata": {},
   "outputs": [
    {
     "name": "stdout",
     "output_type": "stream",
     "text": [
      "+------+----------+------+----------+\n",
      "|emp_no|birth_date|emp_no|avg_salary|\n",
      "+------+----------+------+----------+\n",
      "| 10206|1960-09-19| 10206|  55591.73|\n",
      "| 10362|1963-09-16| 10362|   47990.0|\n",
      "| 10623|1953-07-11| 10623|  71811.64|\n",
      "| 10817|1958-10-02| 10817|  65324.67|\n",
      "| 11033|1957-03-01| 11033|  66597.75|\n",
      "| 11141|1957-08-20| 11141|   49439.3|\n",
      "| 11317|1954-07-24| 11317|  47334.71|\n",
      "| 11458|1958-08-09| 11458|  63011.29|\n",
      "| 11748|1953-03-07| 11748|  63317.71|\n",
      "| 11858|1962-11-21| 11858|  43584.33|\n",
      "| 12027|1962-07-31| 12027|  57875.71|\n",
      "| 12046|1961-05-16| 12046|  73442.33|\n",
      "| 12799|1954-11-21| 12799|  52852.67|\n",
      "| 12940|1953-10-25| 12940|  67110.47|\n",
      "| 13285|1963-03-06| 13285|   44486.5|\n",
      "| 13289|1962-08-12| 13289|  75785.13|\n",
      "| 13623|1961-05-24| 13623|  45617.86|\n",
      "| 13832|1954-04-21| 13832|  70883.17|\n",
      "| 13840|1954-11-13| 13840|   40726.5|\n",
      "| 14450|1963-08-01| 14450|  66555.42|\n",
      "+------+----------+------+----------+\n",
      "only showing top 20 rows\n",
      "\n"
     ]
    }
   ],
   "source": [
    "cte1.join(cte2,cte1.emp_no==cte2.emp_no).show()"
   ]
  },
  {
   "cell_type": "code",
   "execution_count": 74,
   "id": "c9d2683e-7324-4c9e-a47c-bf83a5865ec4",
   "metadata": {},
   "outputs": [
    {
     "name": "stdout",
     "output_type": "stream",
     "text": [
      "+------+----------+------+------------------+\n",
      "|emp_no|birth_date|emp_no|         dept_name|\n",
      "+------+----------+------+------------------+\n",
      "| 10001|1953-09-02| 10001|       Development|\n",
      "| 10002|1964-06-02| 10002|             Sales|\n",
      "| 10003|1959-12-03| 10003|        Production|\n",
      "| 10004|1954-05-01| 10004|        Production|\n",
      "| 10005|1955-01-21| 10005|   Human Resources|\n",
      "| 10006|1953-04-20| 10006|       Development|\n",
      "| 10007|1957-05-23| 10007|          Research|\n",
      "| 10008|1958-02-19| 10008|       Development|\n",
      "| 10009|1952-04-19| 10009|Quality Management|\n",
      "| 10010|1963-06-01| 10010|        Production|\n",
      "| 10010|1963-06-01| 10010|Quality Management|\n",
      "| 10011|1953-11-07| 10011|  Customer Service|\n",
      "| 10012|1960-10-04| 10012|       Development|\n",
      "| 10013|1963-06-07| 10013|   Human Resources|\n",
      "| 10014|1956-02-12| 10014|       Development|\n",
      "| 10015|1959-08-19| 10015|          Research|\n",
      "| 10016|1961-05-02| 10016|             Sales|\n",
      "| 10017|1958-07-06| 10017|         Marketing|\n",
      "| 10018|1954-06-19| 10018|        Production|\n",
      "| 10018|1954-06-19| 10018|       Development|\n",
      "+------+----------+------+------------------+\n",
      "only showing top 20 rows\n",
      "\n"
     ]
    }
   ],
   "source": [
    "cte1.join(cte3,cte1.emp_no==cte3.emp_no).show()"
   ]
  },
  {
   "cell_type": "code",
   "execution_count": 75,
   "id": "6231a415-0fd7-4f69-be19-3209c748f750",
   "metadata": {},
   "outputs": [
    {
     "name": "stdout",
     "output_type": "stream",
     "text": [
      "+------+----------+----------+----------------+---------------+\n",
      "|emp_no|birth_date|avg_salary|       dept_name|          title|\n",
      "+------+----------+----------+----------------+---------------+\n",
      "| 10011|1953-11-07|   49782.0|Customer Service|          Staff|\n",
      "| 10013|1963-06-07|  52431.59| Human Resources|   Senior Staff|\n",
      "| 10015|1959-08-19|   40000.0|        Research|   Senior Staff|\n",
      "| 10018|1954-06-19|  68640.06|      Production|       Engineer|\n",
      "| 10018|1954-06-19|  68640.06|      Production|Senior Engineer|\n",
      "| 10018|1954-06-19|  68640.06|     Development|       Engineer|\n",
      "| 10018|1954-06-19|  68640.06|     Development|Senior Engineer|\n",
      "| 10020|1952-12-24|   43278.2|      Production|       Engineer|\n",
      "| 10022|1952-07-08|  40427.67|     Development|       Engineer|\n",
      "| 10032|1960-08-09|  56633.62|      Production|       Engineer|\n",
      "| 10032|1960-08-09|  56633.62|      Production|Senior Engineer|\n",
      "| 10043|1960-09-19|  64416.92|     Development|       Engineer|\n",
      "| 10043|1960-09-19|  64416.92|     Development|Senior Engineer|\n",
      "| 10058|1954-10-01|   63302.8|       Marketing|   Senior Staff|\n",
      "| 10063|1952-08-06|  58313.36|      Production|Senior Engineer|\n",
      "| 10075|1960-03-09|  52225.62|     Development|Senior Engineer|\n",
      "| 10081|1960-12-17|  67264.63|      Production|       Engineer|\n",
      "| 10081|1960-12-17|  67264.63|      Production|Senior Engineer|\n",
      "| 10090|1961-05-30|  59203.71|     Development|Senior Engineer|\n",
      "| 10094|1957-05-25|  70946.73|        Research|   Senior Staff|\n",
      "+------+----------+----------+----------------+---------------+\n",
      "only showing top 20 rows\n",
      "\n"
     ]
    }
   ],
   "source": [
    "# Select employee_no, birth_date, avg_salary, dept_name, title from employees\n",
    "cte1.join(cte2,cte1.emp_no==cte2.emp_no)\\\n",
    ".join(cte3,cte1.emp_no==cte3.emp_no)\\\n",
    ".join(cte4,cte1.emp_no==cte4.emp_no)\\\n",
    ".select(cte1.emp_no,cte1.birth_date,cte2.avg_salary,cte3.dept_name,cte4.title)\\\n",
    ".show()"
   ]
  },
  {
   "cell_type": "code",
   "execution_count": 76,
   "id": "61c3a4d6-0159-46e3-8744-a54cc5104789",
   "metadata": {},
   "outputs": [
    {
     "data": {
      "text/plain": [
       "166674"
      ]
     },
     "execution_count": 76,
     "metadata": {},
     "output_type": "execute_result"
    }
   ],
   "source": [
    "# Select employee_no, birth_date, avg_salary, dept_name, title from employees\n",
    "cte1.join(cte2,cte1.emp_no==cte2.emp_no)\\\n",
    ".join(cte3,cte1.emp_no==cte3.emp_no)\\\n",
    ".join(cte4,cte1.emp_no==cte4.emp_no)\\\n",
    ".select(cte1.emp_no,cte1.birth_date,cte2.avg_salary,cte3.dept_name,cte4.title)\\\n",
    ".count()"
   ]
  }
 ],
 "metadata": {
  "kernelspec": {
   "display_name": "Python 3 (ipykernel)",
   "language": "python",
   "name": "python3"
  },
  "language_info": {
   "codemirror_mode": {
    "name": "ipython",
    "version": 3
   },
   "file_extension": ".py",
   "mimetype": "text/x-python",
   "name": "python",
   "nbconvert_exporter": "python",
   "pygments_lexer": "ipython3",
   "version": "3.11.7"
  }
 },
 "nbformat": 4,
 "nbformat_minor": 5
}
