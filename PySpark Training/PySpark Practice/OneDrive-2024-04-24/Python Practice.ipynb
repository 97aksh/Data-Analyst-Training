{
 "cells": [
  {
   "cell_type": "code",
   "execution_count": 1,
   "id": "508d1021-5e46-4519-bab1-09264321af3e",
   "metadata": {},
   "outputs": [
    {
     "name": "stdout",
     "output_type": "stream",
     "text": [
      "[2, 4, 6, 8]\n",
      "[1, 3, 5, 7, 9]\n"
     ]
    }
   ],
   "source": [
    "ar = [1,2,3,4,5,6,7,8,9]\n",
    "ar_even = []\n",
    "ar_odd = []\n",
    "for i in ar:\n",
    "    if i%2==0:\n",
    "        ar_even.append(i)\n",
    "    else:\n",
    "        ar_odd.append(i)\n",
    "print(ar_even)\n",
    "print(ar_odd)"
   ]
  },
  {
   "cell_type": "code",
   "execution_count": 2,
   "id": "23f309a9-e490-4a49-a840-67bcb5168cb9",
   "metadata": {},
   "outputs": [
    {
     "name": "stdout",
     "output_type": "stream",
     "text": [
      "[4, 16, 36, 64]\n"
     ]
    }
   ],
   "source": [
    "ar_even_sq = []\n",
    "for i in range(len(ar_even)):\n",
    "    ar_even_sq.append(ar_even[i]**2)\n",
    "print(ar_even_sq)"
   ]
  },
  {
   "cell_type": "code",
   "execution_count": 3,
   "id": "3a8e9582-aefa-41df-a1c5-173a6299a55b",
   "metadata": {},
   "outputs": [
    {
     "name": "stdout",
     "output_type": "stream",
     "text": [
      "[4, 16, 36, 64]\n",
      "[2.0, 4.0, 6.0, 8.0]\n"
     ]
    }
   ],
   "source": [
    "def sq_root(x):\n",
    "    return x**(1/2)\n",
    "arr=[]\n",
    "for i in ar_even_sq:\n",
    "    arr.append(sq_root(i))\n",
    "print(ar_even_sq)\n",
    "print(arr)"
   ]
  },
  {
   "cell_type": "code",
   "execution_count": 4,
   "id": "1efc9624-8515-44c9-b338-05e04c55dfdf",
   "metadata": {},
   "outputs": [
    {
     "name": "stdout",
     "output_type": "stream",
     "text": [
      "0 1 2 3 4 5 6 7 8 9 "
     ]
    }
   ],
   "source": [
    "i=0\n",
    "while i<10:\n",
    "    print(i,end=' ')\n",
    "    i+=1"
   ]
  },
  {
   "cell_type": "code",
   "execution_count": 5,
   "id": "a377496a-c693-4f31-8219-adcf23b5ff90",
   "metadata": {},
   "outputs": [
    {
     "name": "stdout",
     "output_type": "stream",
     "text": [
      "We know that 121 is the square of 11\n"
     ]
    }
   ],
   "source": [
    "p = 11 \n",
    "q = 121\n",
    "print(f'We know that {q} is the square of {p}')"
   ]
  },
  {
   "cell_type": "code",
   "execution_count": 6,
   "id": "87e15a2a-db8b-4f4b-a6ac-5ce225537a72",
   "metadata": {},
   "outputs": [
    {
     "name": "stdout",
     "output_type": "stream",
     "text": [
      "2 x 1 = 2\n",
      "2 x 2 = 4\n",
      "2 x 3 = 6\n",
      "2 x 4 = 8\n",
      "2 x 5 = 10\n",
      "2 x 6 = 12\n",
      "2 x 7 = 14\n",
      "2 x 8 = 16\n",
      "2 x 9 = 18\n",
      "2 x 10 = 20\n"
     ]
    }
   ],
   "source": [
    "for i in range(1,11):\n",
    "    print(f'2 x {i} = {2*i}')"
   ]
  },
  {
   "cell_type": "code",
   "execution_count": 7,
   "id": "a607258c-07b5-42be-b9fa-c2040e49feca",
   "metadata": {},
   "outputs": [
    {
     "name": "stdout",
     "output_type": "stream",
     "text": [
      "\n",
      "We know that\n",
      "Multiple line comment\n",
      "is done by tripple quotes.\n",
      "\n"
     ]
    }
   ],
   "source": [
    "print(\"\"\"\n",
    "We know that\n",
    "Multiple line comment\n",
    "is done by tripple quotes.\n",
    "\"\"\")"
   ]
  },
  {
   "cell_type": "code",
   "execution_count": 8,
   "id": "4b98104a-ed9a-435d-99cb-c364eb763258",
   "metadata": {},
   "outputs": [
    {
     "name": "stdout",
     "output_type": "stream",
     "text": [
      "['jan', 'feb', 'mar', 'apr', 'may', 'jun']\n",
      "['feb', 'mar', 'apr', 'may', 'jun']\n",
      "['jan', 'feb', 'mar', 'apr', 'may', 'jun']\n",
      "['feb', 'mar', 'apr', 'may', 'jun']\n"
     ]
    }
   ],
   "source": [
    "arr = ['jan','feb','mar','apr','may']\n",
    "arr.append('jun')\n",
    "print(arr)\n",
    "arr.pop(0)\n",
    "print(arr)\n",
    "arr.insert(0,'jan')\n",
    "print(arr)\n",
    "arr.remove('jan')\n",
    "print(arr)"
   ]
  },
  {
   "cell_type": "code",
   "execution_count": 9,
   "id": "a4146faa-4192-4e33-b489-f1f8b95167ce",
   "metadata": {},
   "outputs": [
    {
     "name": "stdout",
     "output_type": "stream",
     "text": [
      "[0, 1, 2, 3, 4, 5, 6, 7, 8, 9, 10, 11, 12, 13, 14, 15, 16, 17, 18, 19, 20, 21, 22, 23, 24, 25, 26, 27, 28, 29, 30, 31, 32, 33, 34, 35, 36, 37, 38, 39, 40, 41, 42, 43, 44, 45, 46, 47, 48, 49, 50, 51, 52, 53, 54, 55, 56, 57, 58, 59, 60, 61, 62, 63, 64, 65, 66, 67, 68, 69, 70, 71, 72, 73, 74, 75, 76, 77, 78, 79, 80, 81, 82, 83, 84, 85, 86, 87, 88, 89, 90, 91, 92, 93, 94, 95, 96, 97, 98, 99]\n"
     ]
    }
   ],
   "source": [
    "k=100\n",
    "x=[]\n",
    "for i in range(k):\n",
    "    x.append(i)\n",
    "print(x) "
   ]
  },
  {
   "cell_type": "code",
   "execution_count": 10,
   "id": "4d612559-2b2c-4c7e-9b77-492761f4bf4f",
   "metadata": {},
   "outputs": [
    {
     "data": {
      "text/plain": [
       "[0, 1, 2, 3, 4, 5, 6, 7, 8, 9, 10, 11, 12, 13, 14, 15, 16, 17, 18, 19]"
      ]
     },
     "execution_count": 10,
     "metadata": {},
     "output_type": "execute_result"
    }
   ],
   "source": [
    "x[:20]"
   ]
  },
  {
   "cell_type": "code",
   "execution_count": 11,
   "id": "de018b9c-37d6-4365-8c8c-82bfaf03531e",
   "metadata": {},
   "outputs": [
    {
     "data": {
      "text/plain": [
       "20"
      ]
     },
     "execution_count": 11,
     "metadata": {},
     "output_type": "execute_result"
    }
   ],
   "source": [
    "len(x[:20])"
   ]
  },
  {
   "cell_type": "code",
   "execution_count": 12,
   "id": "17260c6c-66aa-4049-92fa-e6d9ca062b44",
   "metadata": {},
   "outputs": [
    {
     "data": {
      "text/plain": [
       "[85, 86, 87, 88, 89, 90, 91, 92, 93, 94, 95, 96, 97, 98, 99]"
      ]
     },
     "execution_count": 12,
     "metadata": {},
     "output_type": "execute_result"
    }
   ],
   "source": [
    "x[85:]"
   ]
  },
  {
   "cell_type": "code",
   "execution_count": 13,
   "id": "9cc04aaa-1c9f-4151-9a55-5eb9012a19ff",
   "metadata": {},
   "outputs": [
    {
     "data": {
      "text/plain": [
       "15"
      ]
     },
     "execution_count": 13,
     "metadata": {},
     "output_type": "execute_result"
    }
   ],
   "source": [
    "len(x[85:])"
   ]
  },
  {
   "cell_type": "code",
   "execution_count": 14,
   "id": "2c37e21c-6ae6-42e5-8a97-346a7cba4ca2",
   "metadata": {},
   "outputs": [
    {
     "data": {
      "text/plain": [
       "98"
      ]
     },
     "execution_count": 14,
     "metadata": {},
     "output_type": "execute_result"
    }
   ],
   "source": [
    "x[-2]"
   ]
  },
  {
   "cell_type": "code",
   "execution_count": 15,
   "id": "8b66ccdb-6684-4a7a-ae46-b94dd66c5d1f",
   "metadata": {},
   "outputs": [
    {
     "name": "stdout",
     "output_type": "stream",
     "text": [
      "[99, 98, 97, 96, 95, 94, 93, 92, 91, 90, 89, 88, 87, 86, 85, 84, 83, 82, 81, 80, 79, 78, 77, 76, 75, 74, 73, 72, 71, 70, 69, 68, 67, 66, 65, 64, 63, 62, 61, 60, 59, 58, 57, 56, 55, 54, 53, 52, 51, 50, 49, 48, 47, 46, 45, 44, 43, 42, 41, 40, 39, 38, 37, 36, 35, 34, 33, 32, 31, 30, 29, 28, 27, 26, 25, 24, 23, 22, 21, 20, 19, 18, 17, 16, 15, 14, 13, 12, 11, 10, 9, 8, 7, 6, 5, 4, 3, 2, 1, 0]\n"
     ]
    }
   ],
   "source": [
    "print(x[::-1])"
   ]
  },
  {
   "cell_type": "code",
   "execution_count": 16,
   "id": "17ec65a0-c0ca-4a66-b9c7-d34c380842d3",
   "metadata": {},
   "outputs": [
    {
     "data": {
      "text/plain": [
       "[0, 5, 10, 15, 20, 25, 30, 35, 40, 45, 50, 55, 60, 65, 70, 75, 80, 85, 90, 95]"
      ]
     },
     "execution_count": 16,
     "metadata": {},
     "output_type": "execute_result"
    }
   ],
   "source": [
    "x[::5]"
   ]
  },
  {
   "cell_type": "code",
   "execution_count": 17,
   "id": "dae32b46-8546-475e-b9d6-678fa75a5bec",
   "metadata": {},
   "outputs": [
    {
     "data": {
      "text/plain": [
       "[0, 2, 4, 6, 8, 10, 12, 14, 16, 18, 20, 22, 24, 26, 28]"
      ]
     },
     "execution_count": 17,
     "metadata": {},
     "output_type": "execute_result"
    }
   ],
   "source": [
    "x[0:30:2]"
   ]
  },
  {
   "cell_type": "code",
   "execution_count": 18,
   "id": "f4db9308-9c2e-4cc7-a788-053d5d0e4f41",
   "metadata": {},
   "outputs": [
    {
     "data": {
      "text/plain": [
       "[30, 28, 26, 24, 22, 20, 18, 16, 14, 12, 10, 8, 6, 4, 2]"
      ]
     },
     "execution_count": 18,
     "metadata": {},
     "output_type": "execute_result"
    }
   ],
   "source": [
    "x[30:0:-2]"
   ]
  },
  {
   "cell_type": "code",
   "execution_count": 19,
   "id": "906e27d5-84cd-42b3-b4b7-fb8f7c0a2474",
   "metadata": {},
   "outputs": [
    {
     "data": {
      "text/plain": [
       "[0, 5, 10, 15, 20, 25, 30, 35, 40, 45, 50, 55, 60, 65, 70, 75, 80, 85, 90, 95]"
      ]
     },
     "execution_count": 19,
     "metadata": {},
     "output_type": "execute_result"
    }
   ],
   "source": [
    "x[::5]"
   ]
  },
  {
   "cell_type": "code",
   "execution_count": 20,
   "id": "2a9bf574-5345-4222-bb08-8bdee1b04d33",
   "metadata": {},
   "outputs": [
    {
     "data": {
      "text/plain": [
       "[2, 4]"
      ]
     },
     "execution_count": 20,
     "metadata": {},
     "output_type": "execute_result"
    }
   ],
   "source": [
    "arr = [1,2,3,4,5]\n",
    "ar=[]\n",
    "for i in arr:\n",
    "    if i%2==0:\n",
    "        ar.append(i)\n",
    "ar"
   ]
  },
  {
   "cell_type": "code",
   "execution_count": 21,
   "id": "6f195b76-646d-4925-800e-5b5f11dedbd7",
   "metadata": {},
   "outputs": [
    {
     "data": {
      "text/plain": [
       "[2, 4]"
      ]
     },
     "execution_count": 21,
     "metadata": {},
     "output_type": "execute_result"
    }
   ],
   "source": [
    "val = [ i for i in arr if i%2==0 ]\n",
    "val"
   ]
  },
  {
   "cell_type": "code",
   "execution_count": 1,
   "id": "9f38dd9a-c1ef-4231-97ee-aa31f6a844fb",
   "metadata": {},
   "outputs": [
    {
     "name": "stdout",
     "output_type": "stream",
     "text": [
      "[1, 2, 'Fizz', 4, 'Buzz', 'Fizz', 7, 8, 'Fizz', 'Buzz', 11, 'Fizz', 13, 14, 'FizzBuzz', 16, 17, 'Fizz', 19, 'Buzz', 'Fizz', 22, 23, 'Fizz', 'Buzz', 26, 'Fizz', 28, 29, 'FizzBuzz', 31, 32, 'Fizz', 34, 'Buzz', 'Fizz', 37, 38, 'Fizz', 'Buzz', 41, 'Fizz', 43, 44, 'FizzBuzz', 46, 47, 'Fizz', 49, 'Buzz', 'Fizz', 52, 53, 'Fizz', 'Buzz', 56, 'Fizz', 58, 59, 'FizzBuzz', 61, 62, 'Fizz', 64, 'Buzz', 'Fizz', 67, 68, 'Fizz', 'Buzz', 71, 'Fizz', 73, 74, 'FizzBuzz', 76, 77, 'Fizz', 79, 'Buzz', 'Fizz', 82, 83, 'Fizz', 'Buzz', 86, 'Fizz', 88, 89, 'FizzBuzz', 91, 92, 'Fizz', 94, 'Buzz', 'Fizz', 97, 98, 'Fizz', 'Buzz']\n"
     ]
    }
   ],
   "source": [
    "fizz_buzz = []\n",
    "for i in range(1,101):\n",
    "    if i%3==0 and i%5==0:\n",
    "        fizz_buzz.append('FizzBuzz')\n",
    "    elif i%3==0:\n",
    "        fizz_buzz.append('Fizz')\n",
    "    elif i%5==0:\n",
    "        fizz_buzz.append('Buzz')\n",
    "    else:\n",
    "        fizz_buzz.append(i)\n",
    "print(fizz_buzz)"
   ]
  },
  {
   "cell_type": "code",
   "execution_count": 2,
   "id": "523b74f2-bc9a-4e47-8ebd-962763d354d3",
   "metadata": {},
   "outputs": [
    {
     "name": "stdout",
     "output_type": "stream",
     "text": [
      "[1, 2, 'Fizz', 4, 'Buzz', 'Fizz', 7, 8, 'Fizz', 'Buzz', 11, 'Fizz', 13, 14, 'FizzBuzz', 16, 17, 'Fizz', 19, 'Buzz', 'Fizz', 22, 23, 'Fizz', 'Buzz', 26, 'Fizz', 28, 29, 'FizzBuzz', 31, 32, 'Fizz', 34, 'Buzz', 'Fizz', 37, 38, 'Fizz', 'Buzz', 41, 'Fizz', 43, 44, 'FizzBuzz', 46, 47, 'Fizz', 49, 'Buzz', 'Fizz', 52, 53, 'Fizz', 'Buzz', 56, 'Fizz', 58, 59, 'FizzBuzz', 61, 62, 'Fizz', 64, 'Buzz', 'Fizz', 67, 68, 'Fizz', 'Buzz', 71, 'Fizz', 73, 74, 'FizzBuzz', 76, 77, 'Fizz', 79, 'Buzz', 'Fizz', 82, 83, 'Fizz', 'Buzz', 86, 'Fizz', 88, 89, 'FizzBuzz', 91, 92, 'Fizz', 94, 'Buzz', 'Fizz', 97, 98, 'Fizz', 'Buzz']\n"
     ]
    }
   ],
   "source": [
    "fizz_buzz = ['FizzBuzz' if i % 3 == 0 and i % 5 == 0 else 'Fizz' if i % 3 == 0 else 'Buzz' if i % 5 == 0 else i for i in range(1, 101)]\n",
    "print(fizz_buzz)"
   ]
  },
  {
   "cell_type": "code",
   "execution_count": 24,
   "id": "40b8eae7-b08b-40b6-95fd-dbf7c30fa543",
   "metadata": {},
   "outputs": [
    {
     "name": "stdout",
     "output_type": "stream",
     "text": [
      "5040\n"
     ]
    },
    {
     "data": {
      "text/plain": [
       "[1, 2, 6, 24, 120, 720, 5040]"
      ]
     },
     "execution_count": 24,
     "metadata": {},
     "output_type": "execute_result"
    }
   ],
   "source": [
    "arr=[]\n",
    "\n",
    "def factorial(x):\n",
    "    val=1\n",
    "    for i in range(1,x+1):\n",
    "        val*=i\n",
    "    return val\n",
    "\n",
    "print(factorial(7))\n",
    "\n",
    "z=7\n",
    "for i in range(1,z+1):\n",
    "    arr.append(factorial(i))\n",
    "\n",
    "arr"
   ]
  },
  {
   "cell_type": "code",
   "execution_count": 25,
   "id": "3979cfe8-856c-4b70-921b-e62413b3e9e9",
   "metadata": {},
   "outputs": [
    {
     "data": {
      "text/plain": [
       "[1, 2, 6, 24, 120, 720, 5040]"
      ]
     },
     "execution_count": 25,
     "metadata": {},
     "output_type": "execute_result"
    }
   ],
   "source": [
    "list_comprehension = [factorial(i) for i in range(1,z+1)]\n",
    "list_comprehension"
   ]
  },
  {
   "cell_type": "code",
   "execution_count": 26,
   "id": "bfa86c59-c6a6-4a61-a664-64bb6090d100",
   "metadata": {},
   "outputs": [
    {
     "data": {
      "text/plain": [
       "81"
      ]
     },
     "execution_count": 26,
     "metadata": {},
     "output_type": "execute_result"
    }
   ],
   "source": [
    "square = lambda x : x**2\n",
    "square(9)"
   ]
  },
  {
   "cell_type": "code",
   "execution_count": 27,
   "id": "5463545a-944a-4af1-80e1-9c7a085c0955",
   "metadata": {},
   "outputs": [
    {
     "data": {
      "text/plain": [
       "{1: 'A', 2: 'B', 3: 'C'}"
      ]
     },
     "execution_count": 27,
     "metadata": {},
     "output_type": "execute_result"
    }
   ],
   "source": [
    "dictionary = { 1 : \"A\", 2 : \"B\", 3 : \"C\" }\n",
    "dictionary"
   ]
  },
  {
   "cell_type": "code",
   "execution_count": 28,
   "id": "b116685b-b16e-40bc-a65c-0b71a72d44c8",
   "metadata": {},
   "outputs": [
    {
     "data": {
      "text/plain": [
       "{1: 'K', 2: 'B', 3: 'C'}"
      ]
     },
     "execution_count": 28,
     "metadata": {},
     "output_type": "execute_result"
    }
   ],
   "source": [
    "dictionary[1] = \"K\"\n",
    "dictionary"
   ]
  },
  {
   "cell_type": "code",
   "execution_count": 29,
   "id": "e4155449-4a73-4ed2-81da-9e498e5ccbf6",
   "metadata": {},
   "outputs": [
    {
     "data": {
      "text/plain": [
       "{1: 'K', 2: 'B', 3: 'C', 4: 'D'}"
      ]
     },
     "execution_count": 29,
     "metadata": {},
     "output_type": "execute_result"
    }
   ],
   "source": [
    "dictionary[4] = \"D\"\n",
    "dictionary"
   ]
  },
  {
   "cell_type": "code",
   "execution_count": 30,
   "id": "9f957b5e-5f90-4dcb-b7df-31556aac7224",
   "metadata": {},
   "outputs": [
    {
     "name": "stdout",
     "output_type": "stream",
     "text": [
      "[1, 2, 3, 4] ['K', 'B', 'C', 'D']\n"
     ]
    }
   ],
   "source": [
    "k,v =[],[]\n",
    "for key,value in dictionary.items():\n",
    "    k.append(key)\n",
    "    v.append(value)\n",
    "print(k,v)"
   ]
  },
  {
   "cell_type": "code",
   "execution_count": 31,
   "id": "37534b31-0352-43ec-9278-95a8d5a44a84",
   "metadata": {},
   "outputs": [
    {
     "name": "stdout",
     "output_type": "stream",
     "text": [
      "{1: 1, 2: 4, 3: 9, 4: 16, 5: 25, 6: 36, 7: 49, 8: 64, 9: 81}\n"
     ]
    }
   ],
   "source": [
    "dict = {}\n",
    "for i in range(1, 10):\n",
    "    dict[i] = i ** 2\n",
    "print(dict)"
   ]
  },
  {
   "cell_type": "code",
   "execution_count": 32,
   "id": "684f4fa6-6e6d-4477-b3fa-73a4bdc02e43",
   "metadata": {},
   "outputs": [
    {
     "name": "stdout",
     "output_type": "stream",
     "text": [
      "{1: 1, 2: 4, 3: 9, 4: 16, 5: 25, 6: 36, 7: 49, 8: 64, 9: 81}\n"
     ]
    }
   ],
   "source": [
    "my_dict = {i: i ** 2 for i in range(1, 10)}\n",
    "print(my_dict)"
   ]
  },
  {
   "cell_type": "code",
   "execution_count": 33,
   "id": "76a7781c-f08c-421b-93e6-9629cca6ec0b",
   "metadata": {},
   "outputs": [
    {
     "data": {
      "text/plain": [
       "{1, 2, 3, 5}"
      ]
     },
     "execution_count": 33,
     "metadata": {},
     "output_type": "execute_result"
    }
   ],
   "source": [
    "set([1,1,1,3,3,3,2,2,2,2,2,2,5,5,5,5,5,5,5,5,5,5])"
   ]
  },
  {
   "cell_type": "code",
   "execution_count": 34,
   "id": "543d86d5-ceb2-4404-9646-a298bb0f660f",
   "metadata": {},
   "outputs": [
    {
     "name": "stdout",
     "output_type": "stream",
     "text": [
      "{1, 2, 3, 4, 5, 6, 7, 8, 9}\n",
      "{4, 5, 6}\n",
      "{1, 2, 3}\n"
     ]
    }
   ],
   "source": [
    "set1 = {1,2,3,4,5,6}\n",
    "set2 = {4,5,6,7,8,9}\n",
    "\n",
    "print(set1.union(set2))\n",
    "print(set1.intersection(set2))\n",
    "print(set1.difference(set2))"
   ]
  },
  {
   "cell_type": "code",
   "execution_count": 35,
   "id": "922e038f-6fde-4eb8-b1a1-5bfa73800a89",
   "metadata": {},
   "outputs": [
    {
     "data": {
      "text/plain": [
       "((1, 2), (3, 4))"
      ]
     },
     "execution_count": 35,
     "metadata": {},
     "output_type": "execute_result"
    }
   ],
   "source": [
    "tuple = ((1,2),(3,4))\n",
    "tuple"
   ]
  },
  {
   "cell_type": "code",
   "execution_count": 36,
   "id": "ea235d1d-9993-4743-ab06-f2554749c594",
   "metadata": {},
   "outputs": [
    {
     "data": {
      "text/plain": [
       "(((1, 2), (3, 4)), (5, 6))"
      ]
     },
     "execution_count": 36,
     "metadata": {},
     "output_type": "execute_result"
    }
   ],
   "source": [
    "tuple,(5,6)"
   ]
  },
  {
   "cell_type": "code",
   "execution_count": 37,
   "id": "5627e796-ec68-4deb-9b6d-2678ff104ed9",
   "metadata": {},
   "outputs": [
    {
     "data": {
      "text/plain": [
       "((1, 2), (3, 4), 5, 6)"
      ]
     },
     "execution_count": 37,
     "metadata": {},
     "output_type": "execute_result"
    }
   ],
   "source": [
    "tuple+(5,6)"
   ]
  },
  {
   "cell_type": "code",
   "execution_count": 38,
   "id": "f736fd43-f92d-4f53-b33c-a80b792ab9bf",
   "metadata": {},
   "outputs": [
    {
     "data": {
      "text/plain": [
       "{1: 1, 2: 4, 3: 9, 4: 16, 5: 25, 6: 36, 7: 49, 8: 64, 9: 81}"
      ]
     },
     "execution_count": 38,
     "metadata": {},
     "output_type": "execute_result"
    }
   ],
   "source": [
    "dictionary = { i : i**2 for i in range(1,10) }\n",
    "dictionary"
   ]
  },
  {
   "cell_type": "code",
   "execution_count": 39,
   "id": "17c8df80-75d0-4259-b3e9-635101fdfa95",
   "metadata": {},
   "outputs": [
    {
     "data": {
      "text/plain": [
       "{2: 4, 4: 16, 6: 36, 8: 64}"
      ]
     },
     "execution_count": 39,
     "metadata": {},
     "output_type": "execute_result"
    }
   ],
   "source": [
    "dictionary = { i : i**2 for i in range(1,10) if i%2==0 } \n",
    "dictionary"
   ]
  },
  {
   "cell_type": "code",
   "execution_count": 40,
   "id": "c7d83a42-b239-469e-8aaa-cde253299cda",
   "metadata": {},
   "outputs": [
    {
     "data": {
      "text/plain": [
       "[(1, 'A'), (2, 'B'), (3, 'C'), (4, 'D'), (5, 'E')]"
      ]
     },
     "execution_count": 40,
     "metadata": {},
     "output_type": "execute_result"
    }
   ],
   "source": [
    "list1 = [1,2,3,4,5]\n",
    "list2 = ['A','B','C','D','E']\n",
    "\n",
    "list(zip(list1,list2))"
   ]
  },
  {
   "cell_type": "code",
   "execution_count": 41,
   "id": "0c5c7835-d006-4a9b-b0af-2b9b4774c604",
   "metadata": {},
   "outputs": [
    {
     "data": {
      "text/plain": [
       "[1, 4, 9, 16, 25]"
      ]
     },
     "execution_count": 41,
     "metadata": {},
     "output_type": "execute_result"
    }
   ],
   "source": [
    "list(map(lambda x: x**2, list1))"
   ]
  },
  {
   "cell_type": "code",
   "execution_count": 42,
   "id": "977256f8-84d2-49b0-8026-4125bb0174cf",
   "metadata": {},
   "outputs": [
    {
     "data": {
      "text/plain": [
       "[1, 3, 5]"
      ]
     },
     "execution_count": 42,
     "metadata": {},
     "output_type": "execute_result"
    }
   ],
   "source": [
    "list(filter(lambda x: x%2!=0, list1))"
   ]
  },
  {
   "cell_type": "code",
   "execution_count": 43,
   "id": "1050e477-025d-4e38-8f4d-1aeb36284940",
   "metadata": {},
   "outputs": [
    {
     "data": {
      "text/plain": [
       "15"
      ]
     },
     "execution_count": 43,
     "metadata": {},
     "output_type": "execute_result"
    }
   ],
   "source": [
    "from functools import reduce\n",
    "reduce(lambda x,y: x+y, list1)"
   ]
  },
  {
   "cell_type": "code",
   "execution_count": null,
   "id": "1712b26b-03ed-4fb1-8edb-940eeb47c528",
   "metadata": {},
   "outputs": [],
   "source": []
  }
 ],
 "metadata": {
  "kernelspec": {
   "display_name": "Python 3 (ipykernel)",
   "language": "python",
   "name": "python3"
  },
  "language_info": {
   "codemirror_mode": {
    "name": "ipython",
    "version": 3
   },
   "file_extension": ".py",
   "mimetype": "text/x-python",
   "name": "python",
   "nbconvert_exporter": "python",
   "pygments_lexer": "ipython3",
   "version": "3.9.18"
  }
 },
 "nbformat": 4,
 "nbformat_minor": 5
}
